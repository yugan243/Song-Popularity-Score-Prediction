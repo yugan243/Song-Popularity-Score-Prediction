{
 "cells": [
  {
   "cell_type": "markdown",
   "metadata": {},
   "source": [
    "# Model Training"
   ]
  },
  {
   "cell_type": "markdown",
   "metadata": {},
   "source": [
    "## 1. Preparing Environment"
   ]
  },
  {
   "cell_type": "code",
   "execution_count": 1,
   "metadata": {},
   "outputs": [],
   "source": [
    "import pandas as pd\n",
    "import numpy as np\n",
    "import seaborn as sns\n",
    "import matplotlib.pyplot as plt\n",
    "%matplotlib inline\n",
    "import yaml\n",
    "from sklearn.model_selection import train_test_split\n",
    "\n",
    "import warnings \n",
    "warnings.filterwarnings('ignore')"
   ]
  },
  {
   "cell_type": "markdown",
   "metadata": {},
   "source": [
    "## 2. Spliting data set"
   ]
  },
  {
   "cell_type": "code",
   "execution_count": 2,
   "metadata": {},
   "outputs": [
    {
     "name": "stdout",
     "output_type": "stream",
     "text": [
      "Loading training data from ../data/processed/train_encoded.csv\n",
      "Loading test data from ../data/processed/test_encoded.csv\n",
      "Train shape: (61609, 96)\n",
      "Test shape: (41074, 95)\n"
     ]
    }
   ],
   "source": [
    "import sys\n",
    "sys.path.append('..')\n",
    "\n",
    "from src.utils.utils import load_config\n",
    "from src.data.load_data import load_data\n",
    "\n",
    "config = load_config('../configs/config.yaml')\n",
    "\n",
    "# Load data\n",
    "train_df, test_df = load_data(train_path=\"../data/processed/train_encoded.csv\",\n",
    "                              test_path=\"../data/processed/test_encoded.csv\"\n",
    "                              )\n",
    "\n",
    "# Split features and target\n",
    "X = train_df.drop(columns=[config[\"model\"][\"target_column\"]])\n",
    "y = train_df[config[\"model\"][\"target_column\"]]\n",
    "\n",
    "# Split into train/validation\n",
    "X_train, X_val, y_train, y_val = train_test_split(\n",
    "    X, y, \n",
    "    test_size=config[\"test_size\"], \n",
    "    random_state=config[\"random_seed\"]\n",
    ")"
   ]
  },
  {
   "cell_type": "markdown",
   "metadata": {},
   "source": [
    "## 3. Model Tranining and Baseline"
   ]
  },
  {
   "cell_type": "markdown",
   "metadata": {},
   "source": [
    "### 3.1 Baseline model - Random Forest Regressor"
   ]
  },
  {
   "cell_type": "code",
   "execution_count": 3,
   "metadata": {},
   "outputs": [
    {
     "name": "stderr",
     "output_type": "stream",
     "text": [
      "2025/05/30 22:44:08 WARNING mlflow.models.model: Model logged without a signature and input example. Please set `input_example` parameter when logging the model to auto infer the model signature.\n"
     ]
    },
    {
     "name": "stdout",
     "output_type": "stream",
     "text": [
      "Model saved to ../outputs/models/random_forest_3.joblib\n",
      "Validation RMSE: 10.9913, Accuracy: 0.8665\n"
     ]
    }
   ],
   "source": [
    "from src.data.model_training import train_and_evaluate\n",
    "\n",
    "model, val_rmse = train_and_evaluate(\n",
    "    X_train, y_train, X_val, y_val, \n",
    "    config_path=\"../configs/config.yaml\", \n",
    "    params_path=\"../configs/model_params.yaml\",\n",
    "    suffix=3\n",
    ")\n"
   ]
  },
  {
   "cell_type": "code",
   "execution_count": 4,
   "metadata": {},
   "outputs": [
    {
     "name": "stdout",
     "output_type": "stream",
     "text": [
      "Predictions saved to ../outputs/predictions/predictions__9.csv\n"
     ]
    }
   ],
   "source": [
    "from src.utils.io import load_model\n",
    "from src.data.model_training import predict_and_save\n",
    "# get predictions for the test datafrom src.utils.io import load_model\n",
    "model = load_model(\"../outputs/models/random_forest_3.joblib\")\n",
    "X_test = test_df  \n",
    "predict_and_save(model, X_test, config_path=\"../configs/config.yaml\", suffix=\"_9\")"
   ]
  },
  {
   "cell_type": "markdown",
   "metadata": {},
   "source": [
    "### 3.2 Optuna-Optimized XGBoost"
   ]
  },
  {
   "cell_type": "code",
   "execution_count": 5,
   "metadata": {},
   "outputs": [
    {
     "name": "stderr",
     "output_type": "stream",
     "text": [
      "[I 2025-05-30 22:44:57,858] A new study created in memory with name: no-name-bc9fccd7-b078-4840-a06e-246341339dec\n"
     ]
    },
    {
     "name": "stderr",
     "output_type": "stream",
     "text": [
      "[I 2025-05-30 22:46:04,303] Trial 0 finished with value: 8.827370076267274 and parameters: {'n_estimators': 938, 'max_depth': 14, 'learning_rate': 0.022159870866153442, 'subsample': 0.9271302455293515, 'colsample_bytree': 0.6049982728152821, 'gamma': 4.783577254550101, 'reg_alpha': 2.3543367117766003, 'reg_lambda': 3.95768310249324}. Best is trial 0 with value: 8.827370076267274.\n",
      "[I 2025-05-30 22:47:05,257] Trial 1 finished with value: 9.239634711901493 and parameters: {'n_estimators': 282, 'max_depth': 13, 'learning_rate': 0.014244913514137616, 'subsample': 0.8639925678633418, 'colsample_bytree': 0.9359593779147231, 'gamma': 0.12069617667305688, 'reg_alpha': 3.041601331272177, 'reg_lambda': 4.336286297997884}. Best is trial 0 with value: 8.827370076267274.\n",
      "[I 2025-05-30 22:47:22,743] Trial 2 finished with value: 8.934380260251162 and parameters: {'n_estimators': 715, 'max_depth': 8, 'learning_rate': 0.07754999462692534, 'subsample': 0.9864510324358711, 'colsample_bytree': 0.8678945605482611, 'gamma': 1.3740071093766593, 'reg_alpha': 1.8236678618053725, 'reg_lambda': 0.6958729816311743}. Best is trial 0 with value: 8.827370076267274.\n",
      "[I 2025-05-30 22:47:35,144] Trial 3 finished with value: 9.493699243044453 and parameters: {'n_estimators': 489, 'max_depth': 11, 'learning_rate': 0.25176299864081947, 'subsample': 0.7704026697662025, 'colsample_bytree': 0.6612964638871395, 'gamma': 1.6990809245451755, 'reg_alpha': 0.731963214454982, 'reg_lambda': 0.9466903970371621}. Best is trial 0 with value: 8.827370076267274.\n",
      "[I 2025-05-30 22:47:46,815] Trial 4 finished with value: 9.232600575737763 and parameters: {'n_estimators': 537, 'max_depth': 10, 'learning_rate': 0.20401164383438614, 'subsample': 0.8491059763677167, 'colsample_bytree': 0.913944164705109, 'gamma': 4.783845605196722, 'reg_alpha': 2.1725215435274263, 'reg_lambda': 1.2176608235953572}. Best is trial 0 with value: 8.827370076267274.\n",
      "[I 2025-05-30 22:48:06,703] Trial 5 finished with value: 9.433069262723137 and parameters: {'n_estimators': 630, 'max_depth': 14, 'learning_rate': 0.18437705843825636, 'subsample': 0.6701322132207013, 'colsample_bytree': 0.736669129347465, 'gamma': 2.6205784888962356, 'reg_alpha': 4.360125644811474, 'reg_lambda': 0.8687248357607302}. Best is trial 0 with value: 8.827370076267274.\n",
      "[I 2025-05-30 22:48:46,219] Trial 6 finished with value: 8.935242694617687 and parameters: {'n_estimators': 770, 'max_depth': 12, 'learning_rate': 0.06410914279104864, 'subsample': 0.5049801329924827, 'colsample_bytree': 0.6579145881953101, 'gamma': 1.0402908828487916, 'reg_alpha': 1.0485726350761193, 'reg_lambda': 2.4569376043159608}. Best is trial 0 with value: 8.827370076267274.\n",
      "[I 2025-05-30 22:49:19,973] Trial 7 finished with value: 9.347191422443052 and parameters: {'n_estimators': 457, 'max_depth': 11, 'learning_rate': 0.010434835982948249, 'subsample': 0.5631140271155592, 'colsample_bytree': 0.7631338403280208, 'gamma': 3.2503538556252125, 'reg_alpha': 2.339687997490516, 'reg_lambda': 4.802002422240276}. Best is trial 0 with value: 8.827370076267274.\n",
      "[I 2025-05-30 22:49:28,890] Trial 8 finished with value: 9.186754676533841 and parameters: {'n_estimators': 673, 'max_depth': 7, 'learning_rate': 0.1442247620277998, 'subsample': 0.5400291385567664, 'colsample_bytree': 0.534455061933131, 'gamma': 4.1488170952352705, 'reg_alpha': 0.07341054295781524, 'reg_lambda': 4.121997521541772}. Best is trial 0 with value: 8.827370076267274.\n",
      "[I 2025-05-30 22:50:00,738] Trial 9 finished with value: 9.021741250199259 and parameters: {'n_estimators': 191, 'max_depth': 14, 'learning_rate': 0.05744058149313451, 'subsample': 0.8272375815993582, 'colsample_bytree': 0.7903171437832952, 'gamma': 4.243493549639392, 'reg_alpha': 3.5839356761945895, 'reg_lambda': 3.5364115997193792}. Best is trial 0 with value: 8.827370076267274.\n",
      "[I 2025-05-30 22:50:10,978] Trial 10 finished with value: 10.676562328497731 and parameters: {'n_estimators': 991, 'max_depth': 4, 'learning_rate': 0.022786819309546857, 'subsample': 0.9811066427904934, 'colsample_bytree': 0.5234903562671758, 'gamma': 3.3240365739374194, 'reg_alpha': 4.762238620917707, 'reg_lambda': 3.01684138446495}. Best is trial 0 with value: 8.827370076267274.\n",
      "[I 2025-05-30 22:50:26,118] Trial 11 finished with value: 9.502640206723472 and parameters: {'n_estimators': 940, 'max_depth': 6, 'learning_rate': 0.03089423669367536, 'subsample': 0.9945800080955536, 'colsample_bytree': 0.8640819259102395, 'gamma': 1.5756745447612133, 'reg_alpha': 1.6699729558021994, 'reg_lambda': 0.03733374390837185}. Best is trial 0 with value: 8.827370076267274.\n",
      "[I 2025-05-30 22:50:50,112] Trial 12 finished with value: 8.750827859135091 and parameters: {'n_estimators': 845, 'max_depth': 8, 'learning_rate': 0.0806783244954811, 'subsample': 0.9251912301206632, 'colsample_bytree': 0.6153917908562034, 'gamma': 0.6543754905938304, 'reg_alpha': 3.200713167409512, 'reg_lambda': 2.1309309179941494}. Best is trial 12 with value: 8.750827859135091.\n",
      "[I 2025-05-30 22:51:17,626] Trial 13 finished with value: 8.770344216911072 and parameters: {'n_estimators': 849, 'max_depth': 9, 'learning_rate': 0.03287298454231494, 'subsample': 0.9052260407397699, 'colsample_bytree': 0.6280729129236764, 'gamma': 0.04429053186461063, 'reg_alpha': 3.2685679043951192, 'reg_lambda': 2.171255682097915}. Best is trial 12 with value: 8.750827859135091.\n",
      "[I 2025-05-30 22:51:24,450] Trial 14 finished with value: 9.229207356681135 and parameters: {'n_estimators': 822, 'max_depth': 5, 'learning_rate': 0.1055332337702244, 'subsample': 0.9079831713847123, 'colsample_bytree': 0.6083090793292844, 'gamma': 0.13536999755852192, 'reg_alpha': 3.644487889271228, 'reg_lambda': 2.0466400514086365}. Best is trial 12 with value: 8.750827859135091.\n",
      "[I 2025-05-30 22:51:59,095] Trial 15 finished with value: 8.748510179389786 and parameters: {'n_estimators': 841, 'max_depth': 9, 'learning_rate': 0.037362448778267145, 'subsample': 0.7140658781300205, 'colsample_bytree': 0.6688103978647257, 'gamma': 0.8096707909390605, 'reg_alpha': 3.224929182258616, 'reg_lambda': 1.7149773823026973}. Best is trial 15 with value: 8.748510179389786.\n",
      "[I 2025-05-30 22:52:07,299] Trial 16 finished with value: 9.206696469836253 and parameters: {'n_estimators': 392, 'max_depth': 8, 'learning_rate': 0.039242741379525097, 'subsample': 0.6885349310817521, 'colsample_bytree': 0.7178404226884514, 'gamma': 0.6935600201841234, 'reg_alpha': 4.149726782332365, 'reg_lambda': 1.5510461676600884}. Best is trial 15 with value: 8.748510179389786.\n",
      "[I 2025-05-30 22:52:12,225] Trial 17 finished with value: 10.297106541995525 and parameters: {'n_estimators': 852, 'max_depth': 3, 'learning_rate': 0.09693033530709183, 'subsample': 0.662707092027627, 'colsample_bytree': 0.9958371495181133, 'gamma': 2.181052183849211, 'reg_alpha': 3.001147182340998, 'reg_lambda': 3.0478133529277436}. Best is trial 15 with value: 8.748510179389786.\n",
      "[I 2025-05-30 22:52:29,377] Trial 18 finished with value: 8.748323116382522 and parameters: {'n_estimators': 642, 'max_depth': 9, 'learning_rate': 0.04547550583530134, 'subsample': 0.7441105076003347, 'colsample_bytree': 0.5651121162030557, 'gamma': 0.7405074702357571, 'reg_alpha': 3.912843099773521, 'reg_lambda': 1.8917739651882624}. Best is trial 18 with value: 8.748323116382522.\n",
      "[I 2025-05-30 22:52:52,627] Trial 19 finished with value: 8.72120899813553 and parameters: {'n_estimators': 608, 'max_depth': 10, 'learning_rate': 0.04435914987293631, 'subsample': 0.740683733773964, 'colsample_bytree': 0.5615579710298421, 'gamma': 2.295427353665904, 'reg_alpha': 4.001017231886191, 'reg_lambda': 1.7006754081583828}. Best is trial 19 with value: 8.72120899813553.\n",
      "[I 2025-05-30 22:53:18,887] Trial 20 finished with value: 8.760429052706266 and parameters: {'n_estimators': 595, 'max_depth': 10, 'learning_rate': 0.04313712410631877, 'subsample': 0.6211108089891035, 'colsample_bytree': 0.5599874035434836, 'gamma': 2.422730263919017, 'reg_alpha': 4.9831352586472075, 'reg_lambda': 0.2033730948780077}. Best is trial 19 with value: 8.72120899813553.\n",
      "[I 2025-05-30 22:53:57,161] Trial 21 finished with value: 8.75475421902562 and parameters: {'n_estimators': 716, 'max_depth': 10, 'learning_rate': 0.023167912489053165, 'subsample': 0.7475369654930462, 'colsample_bytree': 0.5054725947366777, 'gamma': 0.8384896284585206, 'reg_alpha': 4.100189335975512, 'reg_lambda': 1.6827959609950078}. Best is trial 19 with value: 8.72120899813553.\n",
      "[I 2025-05-30 22:54:20,203] Trial 22 finished with value: 8.756783172254462 and parameters: {'n_estimators': 605, 'max_depth': 9, 'learning_rate': 0.04793577013231975, 'subsample': 0.7530191511987029, 'colsample_bytree': 0.5772626351287057, 'gamma': 2.0846947085641445, 'reg_alpha': 3.8110215573613546, 'reg_lambda': 1.605820975957105}. Best is trial 19 with value: 8.72120899813553.\n",
      "[I 2025-05-30 22:55:02,909] Trial 23 finished with value: 8.8327300627455 and parameters: {'n_estimators': 373, 'max_depth': 12, 'learning_rate': 0.032569208384923505, 'subsample': 0.7161955391692001, 'colsample_bytree': 0.6933831556065376, 'gamma': 2.914304717327172, 'reg_alpha': 4.537483692686462, 'reg_lambda': 2.8247912035113885}. Best is trial 19 with value: 8.72120899813553.\n",
      "[I 2025-05-30 22:55:17,644] Trial 24 finished with value: 8.926637677731307 and parameters: {'n_estimators': 768, 'max_depth': 7, 'learning_rate': 0.05547672761735421, 'subsample': 0.7947461007553989, 'colsample_bytree': 0.56330796646821, 'gamma': 1.1711565908789727, 'reg_alpha': 2.8697991659285993, 'reg_lambda': 1.3325001399671037}. Best is trial 19 with value: 8.72120899813553.\n",
      "[I 2025-05-30 22:55:29,190] Trial 25 finished with value: 10.484922573838803 and parameters: {'n_estimators': 113, 'max_depth': 11, 'learning_rate': 0.017619437745536037, 'subsample': 0.6258232363463195, 'colsample_bytree': 0.652553196345986, 'gamma': 1.9388402637508815, 'reg_alpha': 3.827008930415926, 'reg_lambda': 2.581164862428086}. Best is trial 19 with value: 8.72120899813553.\n",
      "[I 2025-05-30 22:55:40,278] Trial 26 finished with value: 9.463472916488602 and parameters: {'n_estimators': 559, 'max_depth': 7, 'learning_rate': 0.02835534457038731, 'subsample': 0.7264296199457547, 'colsample_bytree': 0.7051338065942835, 'gamma': 0.5168367608909041, 'reg_alpha': 3.465331308113433, 'reg_lambda': 0.5011517207398601}. Best is trial 19 with value: 8.72120899813553.\n",
      "[I 2025-05-30 22:56:04,528] Trial 27 finished with value: 8.770240697221887 and parameters: {'n_estimators': 664, 'max_depth': 9, 'learning_rate': 0.04255526734607639, 'subsample': 0.7962926212784904, 'colsample_bytree': 0.5790474466197159, 'gamma': 1.3761810305557314, 'reg_alpha': 2.675777584742839, 'reg_lambda': 1.9698174899536731}. Best is trial 19 with value: 8.72120899813553.\n",
      "[I 2025-05-30 22:56:09,624] Trial 28 finished with value: 9.320136094961986 and parameters: {'n_estimators': 510, 'max_depth': 6, 'learning_rate': 0.07001533222706509, 'subsample': 0.6354700667671609, 'colsample_bytree': 0.501379907979795, 'gamma': 0.42875203778067095, 'reg_alpha': 4.029863524654138, 'reg_lambda': 1.1730755836754736}. Best is trial 19 with value: 8.72120899813553.\n",
      "[I 2025-05-30 22:57:44,802] Trial 29 finished with value: 8.894289786604968 and parameters: {'n_estimators': 756, 'max_depth': 15, 'learning_rate': 0.01708500568501648, 'subsample': 0.6976970446313707, 'colsample_bytree': 0.7897564982325621, 'gamma': 3.9635266871411776, 'reg_alpha': 4.658461000500278, 'reg_lambda': 3.570661539642061}. Best is trial 19 with value: 8.72120899813553.\n",
      "[I 2025-05-30 22:58:03,241] Trial 30 finished with value: 9.06452319482452 and parameters: {'n_estimators': 949, 'max_depth': 12, 'learning_rate': 0.12977219153321665, 'subsample': 0.790735492402212, 'colsample_bytree': 0.6724550080478938, 'gamma': 1.0242194637879931, 'reg_alpha': 2.5062272355143382, 'reg_lambda': 2.465834604508501}. Best is trial 19 with value: 8.72120899813553.\n",
      "[I 2025-05-30 22:58:19,677] Trial 31 finished with value: 8.801793297197 and parameters: {'n_estimators': 894, 'max_depth': 8, 'learning_rate': 0.08266769357623922, 'subsample': 0.7335355486909959, 'colsample_bytree': 0.6184058835940501, 'gamma': 0.4643142303485413, 'reg_alpha': 3.3434256674068132, 'reg_lambda': 1.8494537282751886}. Best is trial 19 with value: 8.72120899813553.\n",
      "[I 2025-05-30 22:58:40,279] Trial 32 finished with value: 8.696453502884497 and parameters: {'n_estimators': 802, 'max_depth': 9, 'learning_rate': 0.05289660909397982, 'subsample': 0.8336175551697924, 'colsample_bytree': 0.5991630462596647, 'gamma': 0.845699461214583, 'reg_alpha': 3.2492118324972656, 'reg_lambda': 2.199196107470409}. Best is trial 32 with value: 8.696453502884497.\n",
      "[I 2025-05-30 22:58:57,956] Trial 33 finished with value: 8.766261657332858 and parameters: {'n_estimators': 703, 'max_depth': 9, 'learning_rate': 0.04992264873502414, 'subsample': 0.8296355588238077, 'colsample_bytree': 0.587120372759203, 'gamma': 1.7675934027525733, 'reg_alpha': 2.751702618972186, 'reg_lambda': 2.2977069420842815}. Best is trial 32 with value: 8.696453502884497.\n",
      "[I 2025-05-30 22:59:27,626] Trial 34 finished with value: 8.691702066595077 and parameters: {'n_estimators': 796, 'max_depth': 10, 'learning_rate': 0.035875148092991395, 'subsample': 0.8720319916899357, 'colsample_bytree': 0.5431961221762261, 'gamma': 1.3482321082660667, 'reg_alpha': 4.2611933521856304, 'reg_lambda': 1.3999656853706577}. Best is trial 34 with value: 8.691702066595077.\n",
      "[I 2025-05-30 22:59:55,731] Trial 35 finished with value: 8.694327985033008 and parameters: {'n_estimators': 789, 'max_depth': 10, 'learning_rate': 0.028008626067592617, 'subsample': 0.8855518271961454, 'colsample_bytree': 0.5420372964511855, 'gamma': 1.3698788287517107, 'reg_alpha': 4.3701658844309605, 'reg_lambda': 1.3794254744178744}. Best is trial 34 with value: 8.691702066595077.\n",
      "[I 2025-05-30 23:00:24,202] Trial 36 finished with value: 8.715407082728596 and parameters: {'n_estimators': 781, 'max_depth': 10, 'learning_rate': 0.025265668151829197, 'subsample': 0.871116595580268, 'colsample_bytree': 0.5379855210506352, 'gamma': 1.5018223378598126, 'reg_alpha': 4.344112402227443, 'reg_lambda': 0.6055266540500481}. Best is trial 34 with value: 8.691702066595077.\n",
      "[I 2025-05-30 23:01:36,697] Trial 37 finished with value: 8.736329216619092 and parameters: {'n_estimators': 897, 'max_depth': 13, 'learning_rate': 0.018647620217192906, 'subsample': 0.8776840130448336, 'colsample_bytree': 0.5278621315380544, 'gamma': 1.4903675789613047, 'reg_alpha': 4.357424623310494, 'reg_lambda': 0.6344045714331266}. Best is trial 34 with value: 8.691702066595077.\n",
      "[I 2025-05-30 23:02:39,733] Trial 38 finished with value: 8.831702123732647 and parameters: {'n_estimators': 796, 'max_depth': 11, 'learning_rate': 0.01190728087722892, 'subsample': 0.9562813626153631, 'colsample_bytree': 0.5353434928506354, 'gamma': 1.2184678621892486, 'reg_alpha': 4.37621053355148, 'reg_lambda': 0.9524332116245932}. Best is trial 34 with value: 8.691702066595077.\n",
      "[I 2025-05-30 23:06:47,568] Trial 39 finished with value: 8.697433829849434 and parameters: {'n_estimators': 892, 'max_depth': 10, 'learning_rate': 0.027700879385485582, 'subsample': 0.872993625714723, 'colsample_bytree': 0.5922803379898064, 'gamma': 1.811525627760866, 'reg_alpha': 4.852342786025182, 'reg_lambda': 1.205797972620661}. Best is trial 34 with value: 8.691702066595077.\n",
      "[I 2025-05-30 23:08:11,464] Trial 40 finished with value: 8.75911651894087 and parameters: {'n_estimators': 998, 'max_depth': 13, 'learning_rate': 0.015127056493126347, 'subsample': 0.8301880683851269, 'colsample_bytree': 0.6349956059457683, 'gamma': 1.8617335834598685, 'reg_alpha': 4.932849717392736, 'reg_lambda': 1.2653563738618252}. Best is trial 34 with value: 8.691702066595077.\n",
      "[I 2025-05-30 23:08:43,042] Trial 41 finished with value: 8.706531344302185 and parameters: {'n_estimators': 899, 'max_depth': 10, 'learning_rate': 0.025152547742956794, 'subsample': 0.8734043013910279, 'colsample_bytree': 0.5951930249312094, 'gamma': 1.5627070055292251, 'reg_alpha': 4.441801970171512, 'reg_lambda': 0.8642986471648535}. Best is trial 34 with value: 8.691702066595077.\n",
      "[I 2025-05-30 23:09:19,856] Trial 42 finished with value: 8.723144298930343 and parameters: {'n_estimators': 902, 'max_depth': 11, 'learning_rate': 0.026975088480601487, 'subsample': 0.8850441439704603, 'colsample_bytree': 0.5959503692908177, 'gamma': 2.7749622727251335, 'reg_alpha': 4.704873062540641, 'reg_lambda': 1.0019403359728096}. Best is trial 34 with value: 8.691702066595077.\n",
      "[I 2025-05-30 23:09:46,187] Trial 43 finished with value: 8.849585020174498 and parameters: {'n_estimators': 719, 'max_depth': 10, 'learning_rate': 0.020840555532171876, 'subsample': 0.946543780403247, 'colsample_bytree': 0.643127515260763, 'gamma': 1.7032833692159781, 'reg_alpha': 4.548333234044401, 'reg_lambda': 1.393799304395756}. Best is trial 34 with value: 8.691702066595077.\n",
      "[I 2025-05-30 23:10:23,015] Trial 44 finished with value: 8.719555451846844 and parameters: {'n_estimators': 882, 'max_depth': 12, 'learning_rate': 0.03521927674050944, 'subsample': 0.846499090558741, 'colsample_bytree': 0.5984837032536041, 'gamma': 1.1740389509106122, 'reg_alpha': 1.8689545303620478, 'reg_lambda': 0.27188417300144874}. Best is trial 34 with value: 8.691702066595077.\n",
      "[I 2025-05-30 23:11:01,756] Trial 45 finished with value: 8.715888097162884 and parameters: {'n_estimators': 963, 'max_depth': 11, 'learning_rate': 0.029230345449127986, 'subsample': 0.9020569166832715, 'colsample_bytree': 0.5474344588657334, 'gamma': 1.3415470849796816, 'reg_alpha': 4.877549538763429, 'reg_lambda': 0.782164003727222}. Best is trial 34 with value: 8.691702066595077.\n",
      "[I 2025-05-30 23:11:17,258] Trial 46 finished with value: 9.336462540806282 and parameters: {'n_estimators': 806, 'max_depth': 8, 'learning_rate': 0.013822678521924444, 'subsample': 0.853309223049733, 'colsample_bytree': 0.5134370700836453, 'gamma': 0.9282622683516941, 'reg_alpha': 4.259747323026696, 'reg_lambda': 1.122478471317967}. Best is trial 34 with value: 8.691702066595077.\n",
      "[I 2025-05-30 23:11:56,567] Trial 47 finished with value: 8.798597258694315 and parameters: {'n_estimators': 925, 'max_depth': 10, 'learning_rate': 0.022757360709531178, 'subsample': 0.9461345348283104, 'colsample_bytree': 0.8665547903989799, 'gamma': 2.0212896295728897, 'reg_alpha': 4.516429773075806, 'reg_lambda': 0.43796852207938675}. Best is trial 34 with value: 8.691702066595077.\n",
      "[I 2025-05-30 23:12:11,953] Trial 48 finished with value: 9.509259178917985 and parameters: {'n_estimators': 743, 'max_depth': 11, 'learning_rate': 0.25666078124145586, 'subsample': 0.8145342055523036, 'colsample_bytree': 0.8273368655867144, 'gamma': 0.2577495865880681, 'reg_alpha': 4.7486055338214195, 'reg_lambda': 1.4816738524401538}. Best is trial 34 with value: 8.691702066595077.\n",
      "[I 2025-05-30 23:12:35,776] Trial 49 finished with value: 8.856350929261248 and parameters: {'n_estimators': 854, 'max_depth': 12, 'learning_rate': 0.05863704925628621, 'subsample': 0.921878910343622, 'colsample_bytree': 0.6836652369502195, 'gamma': 1.6569596427660624, 'reg_alpha': 3.641499700552468, 'reg_lambda': 0.9363780182927761}. Best is trial 34 with value: 8.691702066595077.\n",
      "[I 2025-05-30 23:13:01,118] Trial 50 finished with value: 8.857114580873981 and parameters: {'n_estimators': 968, 'max_depth': 9, 'learning_rate': 0.02036398783169002, 'subsample': 0.8930455207273018, 'colsample_bytree': 0.7395438705796148, 'gamma': 1.0904829064717605, 'reg_alpha': 1.1069832313485761, 'reg_lambda': 4.968200415975504}. Best is trial 34 with value: 8.691702066595077.\n",
      "[I 2025-05-30 23:13:28,855] Trial 51 finished with value: 8.690544198822057 and parameters: {'n_estimators': 806, 'max_depth': 10, 'learning_rate': 0.026072931483634938, 'subsample': 0.8658176295161665, 'colsample_bytree': 0.543256374905501, 'gamma': 1.4949038243740373, 'reg_alpha': 4.27986012492068, 'reg_lambda': 0.4589036294987109}. Best is trial 51 with value: 8.690544198822057.\n",
      "[I 2025-05-30 23:13:56,382] Trial 52 finished with value: 8.691052046855567 and parameters: {'n_estimators': 824, 'max_depth': 10, 'learning_rate': 0.03714107559616256, 'subsample': 0.8574312199169851, 'colsample_bytree': 0.5461007407419631, 'gamma': 1.4288703244833507, 'reg_alpha': 4.174379972416984, 'reg_lambda': 0.012192665686532322}. Best is trial 51 with value: 8.690544198822057.\n",
      "[I 2025-05-30 23:14:12,627] Trial 53 finished with value: 8.773207487384486 and parameters: {'n_estimators': 688, 'max_depth': 9, 'learning_rate': 0.03832051855501063, 'subsample': 0.8536035958876533, 'colsample_bytree': 0.5480356629059977, 'gamma': 1.3009300963941968, 'reg_alpha': 4.193688649320802, 'reg_lambda': 0.017720203170024058}. Best is trial 51 with value: 8.690544198822057.\n",
      "[I 2025-05-30 23:14:25,776] Trial 54 finished with value: 8.849716061277581 and parameters: {'n_estimators': 807, 'max_depth': 8, 'learning_rate': 0.0344451474165991, 'subsample': 0.811627049941426, 'colsample_bytree': 0.5220413811872653, 'gamma': 1.839370853292995, 'reg_alpha': 3.7206083050279775, 'reg_lambda': 0.4447596710499649}. Best is trial 51 with value: 8.690544198822057.\n",
      "[I 2025-05-30 23:14:44,892] Trial 55 finished with value: 8.769487750448908 and parameters: {'n_estimators': 828, 'max_depth': 10, 'learning_rate': 0.06616146609813857, 'subsample': 0.7737074486906446, 'colsample_bytree': 0.6114220907884846, 'gamma': 2.2578369637320885, 'reg_alpha': 3.462131897353591, 'reg_lambda': 0.31529905777424405}. Best is trial 51 with value: 8.690544198822057.\n",
      "[I 2025-05-30 23:15:23,228] Trial 56 finished with value: 8.699817734486237 and parameters: {'n_estimators': 869, 'max_depth': 11, 'learning_rate': 0.03066187374419103, 'subsample': 0.9203012455087887, 'colsample_bytree': 0.574539382940402, 'gamma': 1.0099535022907595, 'reg_alpha': 3.935384154091419, 'reg_lambda': 0.15670085041200604}. Best is trial 51 with value: 8.690544198822057.\n",
      "[I 2025-05-30 23:15:44,652] Trial 57 finished with value: 8.704284262026382 and parameters: {'n_estimators': 742, 'max_depth': 10, 'learning_rate': 0.050038542012677316, 'subsample': 0.8379214573130285, 'colsample_bytree': 0.5521577347826648, 'gamma': 2.4425748325129195, 'reg_alpha': 0.15724783317392577, 'reg_lambda': 0.7723670317723168}. Best is trial 51 with value: 8.690544198822057.\n",
      "[I 2025-05-30 23:16:05,472] Trial 58 finished with value: 8.704085730186572 and parameters: {'n_estimators': 930, 'max_depth': 9, 'learning_rate': 0.03917299309996561, 'subsample': 0.9652690164009692, 'colsample_bytree': 0.5002953803680157, 'gamma': 1.4314816074003156, 'reg_alpha': 4.046591003951701, 'reg_lambda': 2.199192109953187}. Best is trial 51 with value: 8.690544198822057.\n",
      "[I 2025-05-30 23:16:21,293] Trial 59 finished with value: 9.025330818009483 and parameters: {'n_estimators': 827, 'max_depth': 8, 'learning_rate': 0.025404868318142988, 'subsample': 0.8620914170636146, 'colsample_bytree': 0.9067937973901307, 'gamma': 4.937172980556509, 'reg_alpha': 4.819061554664387, 'reg_lambda': 2.6375692930901375}. Best is trial 51 with value: 8.690544198822057.\n",
      "[I 2025-05-30 23:17:02,564] Trial 60 finished with value: 8.714481306896136 and parameters: {'n_estimators': 783, 'max_depth': 11, 'learning_rate': 0.03149777984033191, 'subsample': 0.8922145314894141, 'colsample_bytree': 0.625160289594786, 'gamma': 0.722102249537167, 'reg_alpha': 3.0237118947617216, 'reg_lambda': 1.1095690141503862}. Best is trial 51 with value: 8.690544198822057.\n",
      "[I 2025-05-30 23:17:43,579] Trial 61 finished with value: 8.69807460131376 and parameters: {'n_estimators': 864, 'max_depth': 11, 'learning_rate': 0.027695990234285515, 'subsample': 0.9199475698036299, 'colsample_bytree': 0.5750249413010506, 'gamma': 1.013478049751449, 'reg_alpha': 3.8772120560638994, 'reg_lambda': 0.10395511145647446}. Best is trial 51 with value: 8.690544198822057.\n",
      "[I 2025-05-30 23:18:27,190] Trial 62 finished with value: 8.732997396671628 and parameters: {'n_estimators': 745, 'max_depth': 12, 'learning_rate': 0.028896961852941706, 'subsample': 0.9169578143180668, 'colsample_bytree': 0.5702161609519469, 'gamma': 0.8849761648570026, 'reg_alpha': 4.174688957467606, 'reg_lambda': 0.019628967898017116}. Best is trial 51 with value: 8.690544198822057.\n",
      "[I 2025-05-30 23:18:50,159] Trial 63 finished with value: 8.690905006613775 and parameters: {'n_estimators': 662, 'max_depth': 10, 'learning_rate': 0.04193129543629358, 'subsample': 0.9767403386130242, 'colsample_bytree': 0.5210499569722655, 'gamma': 0.5774248661718491, 'reg_alpha': 3.830367135238053, 'reg_lambda': 0.3313827057053314}. Best is trial 51 with value: 8.690544198822057.\n",
      "[I 2025-05-30 23:19:04,994] Trial 64 finished with value: 8.822766107192605 and parameters: {'n_estimators': 647, 'max_depth': 9, 'learning_rate': 0.035800583390367624, 'subsample': 0.9908455932417529, 'colsample_bytree': 0.5229891366606089, 'gamma': 0.5349895985642907, 'reg_alpha': 4.685160227277517, 'reg_lambda': 0.38976105202351247}. Best is trial 51 with value: 8.690544198822057.\n",
      "[I 2025-05-30 23:19:30,329] Trial 65 finished with value: 8.701404011002783 and parameters: {'n_estimators': 720, 'max_depth': 10, 'learning_rate': 0.041422818415445185, 'subsample': 0.9395179958590826, 'colsample_bytree': 0.5418722709529887, 'gamma': 0.31757890129678545, 'reg_alpha': 4.551180138753573, 'reg_lambda': 0.5976852283608147}. Best is trial 51 with value: 8.690544198822057.\n",
      "[I 2025-05-30 23:19:58,238] Trial 66 finished with value: 8.722531172132785 and parameters: {'n_estimators': 821, 'max_depth': 10, 'learning_rate': 0.04646036163366444, 'subsample': 0.8108326095826713, 'colsample_bytree': 0.5136450026693462, 'gamma': 0.6497126351922329, 'reg_alpha': 3.502242841108828, 'reg_lambda': 1.7715077571806617}. Best is trial 51 with value: 8.690544198822057.\n",
      "[I 2025-05-30 23:20:14,434] Trial 67 finished with value: 8.728051259254823 and parameters: {'n_estimators': 672, 'max_depth': 9, 'learning_rate': 0.05718119299299264, 'subsample': 0.8628271141810933, 'colsample_bytree': 0.5547267878371541, 'gamma': 1.2880696779378686, 'reg_alpha': 3.7264946039748743, 'reg_lambda': 1.3787802557200202}. Best is trial 51 with value: 8.690544198822057.\n",
      "[I 2025-05-30 23:20:23,401] Trial 68 finished with value: 8.990249862508385 and parameters: {'n_estimators': 771, 'max_depth': 7, 'learning_rate': 0.05338672921156734, 'subsample': 0.9771362761405947, 'colsample_bytree': 0.5305833791336657, 'gamma': 2.105817361321376, 'reg_alpha': 4.242519596304525, 'reg_lambda': 1.549219555436437}. Best is trial 51 with value: 8.690544198822057.\n",
      "[I 2025-05-30 23:20:41,442] Trial 69 finished with value: 8.794576395404691 and parameters: {'n_estimators': 589, 'max_depth': 10, 'learning_rate': 0.072321766055816, 'subsample': 0.7786017428423312, 'colsample_bytree': 0.5866383291194811, 'gamma': 1.6357372757178255, 'reg_alpha': 4.986985420097767, 'reg_lambda': 0.2613409351441951}. Best is trial 51 with value: 8.690544198822057.\n",
      "[I 2025-05-30 23:20:50,729] Trial 70 finished with value: 9.241146490135758 and parameters: {'n_estimators': 296, 'max_depth': 9, 'learning_rate': 0.03384794769418774, 'subsample': 0.9007185181856165, 'colsample_bytree': 0.9969168360250795, 'gamma': 0.2043399354090123, 'reg_alpha': 3.256319470462837, 'reg_lambda': 0.6704848932531395}. Best is trial 51 with value: 8.690544198822057.\n",
      "[I 2025-05-30 23:21:32,395] Trial 71 finished with value: 8.695096653318288 and parameters: {'n_estimators': 861, 'max_depth': 11, 'learning_rate': 0.026130398958416554, 'subsample': 0.9319663327794658, 'colsample_bytree': 0.5611171903685686, 'gamma': 0.9095450364216213, 'reg_alpha': 3.8647775178018184, 'reg_lambda': 0.16736081264719133}. Best is trial 51 with value: 8.690544198822057.\n",
      "[I 2025-05-30 23:22:17,835] Trial 72 finished with value: 8.673180504209153 and parameters: {'n_estimators': 919, 'max_depth': 11, 'learning_rate': 0.023992451818027963, 'subsample': 0.9660630516505466, 'colsample_bytree': 0.5602003203867653, 'gamma': 0.8102357412398569, 'reg_alpha': 3.789649570809428, 'reg_lambda': 0.20267857867248135}. Best is trial 72 with value: 8.673180504209153.\n",
      "[I 2025-05-30 23:22:43,942] Trial 73 finished with value: 8.941357613727487 and parameters: {'n_estimators': 441, 'max_depth': 11, 'learning_rate': 0.019046375570300363, 'subsample': 0.9713498640838751, 'colsample_bytree': 0.5613684318971148, 'gamma': 0.5905377379568448, 'reg_alpha': 3.8002246115101324, 'reg_lambda': 3.2068340551334327}. Best is trial 72 with value: 8.673180504209153.\n",
      "[I 2025-05-30 23:24:11,098] Trial 74 finished with value: 8.730749261433157 and parameters: {'n_estimators': 922, 'max_depth': 13, 'learning_rate': 0.024409484760306327, 'subsample': 0.9362524725075653, 'colsample_bytree': 0.5153490518812494, 'gamma': 0.016346051918832538, 'reg_alpha': 4.033162787335395, 'reg_lambda': 0.1903869630960298}. Best is trial 72 with value: 8.673180504209153.\n",
      "[I 2025-05-30 23:24:21,232] Trial 75 finished with value: 9.15875688938128 and parameters: {'n_estimators': 842, 'max_depth': 12, 'learning_rate': 0.22232114245853551, 'subsample': 0.9982938221871951, 'colsample_bytree': 0.5381669074314311, 'gamma': 0.8359018499640551, 'reg_alpha': 3.568655965295409, 'reg_lambda': 0.5531488573784877}. Best is trial 72 with value: 8.673180504209153.\n",
      "[I 2025-05-30 23:25:20,457] Trial 76 finished with value: 8.717616728823542 and parameters: {'n_estimators': 797, 'max_depth': 12, 'learning_rate': 0.021647568329360115, 'subsample': 0.9610511985736984, 'colsample_bytree': 0.6097966870536143, 'gamma': 0.4131151548517127, 'reg_alpha': 3.4201930469206343, 'reg_lambda': 0.34220503595785234}. Best is trial 72 with value: 8.673180504209153.\n",
      "[I 2025-05-30 23:25:48,032] Trial 77 finished with value: 8.712118491271628 and parameters: {'n_estimators': 763, 'max_depth': 11, 'learning_rate': 0.04346482200782382, 'subsample': 0.9103359221336131, 'colsample_bytree': 0.5441170138030974, 'gamma': 1.1301676040183548, 'reg_alpha': 3.901285510527698, 'reg_lambda': 0.14448038591848894}. Best is trial 72 with value: 8.673180504209153.\n",
      "[I 2025-05-30 23:26:17,524] Trial 78 finished with value: 8.685468916546359 and parameters: {'n_estimators': 861, 'max_depth': 10, 'learning_rate': 0.037428492241840944, 'subsample': 0.9306452518557942, 'colsample_bytree': 0.5630522453021002, 'gamma': 0.8018567757823023, 'reg_alpha': 3.1266137999846464, 'reg_lambda': 0.7336009380180055}. Best is trial 72 with value: 8.673180504209153.\n",
      "[I 2025-05-30 23:26:51,913] Trial 79 finished with value: 8.72598720966305 and parameters: {'n_estimators': 969, 'max_depth': 11, 'learning_rate': 0.03187338870152138, 'subsample': 0.9339699307651164, 'colsample_bytree': 0.5635762798070456, 'gamma': 3.211164579744681, 'reg_alpha': 3.09787109495254, 'reg_lambda': 4.363968690504893}. Best is trial 72 with value: 8.673180504209153.\n",
      "[I 2025-05-30 23:27:20,308] Trial 80 finished with value: 8.692753143530274 and parameters: {'n_estimators': 860, 'max_depth': 10, 'learning_rate': 0.03671309582994269, 'subsample': 0.9812344124265019, 'colsample_bytree': 0.5310728029026941, 'gamma': 0.7531561319549356, 'reg_alpha': 2.306656931430938, 'reg_lambda': 0.7657556181110223}. Best is trial 72 with value: 8.673180504209153.\n",
      "[I 2025-05-30 23:27:49,707] Trial 81 finished with value: 8.692731201678153 and parameters: {'n_estimators': 871, 'max_depth': 10, 'learning_rate': 0.03784179983342599, 'subsample': 0.9513958708546872, 'colsample_bytree': 0.5230365251015695, 'gamma': 0.7485061051602813, 'reg_alpha': 2.5727030531997244, 'reg_lambda': 0.7485129920130462}. Best is trial 72 with value: 8.673180504209153.\n",
      "[I 2025-05-30 23:28:19,238] Trial 82 finished with value: 8.657894928461834 and parameters: {'n_estimators': 908, 'max_depth': 10, 'learning_rate': 0.03782447243889606, 'subsample': 0.9819744233375098, 'colsample_bytree': 0.5099005926050154, 'gamma': 0.6727163338311256, 'reg_alpha': 2.2353318331358594, 'reg_lambda': 0.7585899422613069}. Best is trial 82 with value: 8.657894928461834.\n",
      "[I 2025-05-30 23:28:48,910] Trial 83 finished with value: 8.664438499224051 and parameters: {'n_estimators': 908, 'max_depth': 10, 'learning_rate': 0.039663714269851755, 'subsample': 0.9835512375210635, 'colsample_bytree': 0.5001387087390862, 'gamma': 0.38198463979905023, 'reg_alpha': 2.1784101365184645, 'reg_lambda': 0.7548720154916845}. Best is trial 82 with value: 8.657894928461834.\n",
      "[I 2025-05-30 23:29:20,856] Trial 84 finished with value: 8.652280703071654 and parameters: {'n_estimators': 951, 'max_depth': 10, 'learning_rate': 0.0403490299666585, 'subsample': 0.9571511642157495, 'colsample_bytree': 0.5085698906086136, 'gamma': 0.3713559785957996, 'reg_alpha': 2.043508779914526, 'reg_lambda': 0.4791348172636917}. Best is trial 84 with value: 8.652280703071654.\n",
      "[I 2025-05-30 23:29:51,970] Trial 85 finished with value: 8.624605031575857 and parameters: {'n_estimators': 946, 'max_depth': 10, 'learning_rate': 0.04187145329676896, 'subsample': 0.9806774393081286, 'colsample_bytree': 0.5072816801999666, 'gamma': 0.36401155151216646, 'reg_alpha': 2.0394730907238166, 'reg_lambda': 0.5291422143008324}. Best is trial 85 with value: 8.624605031575857.\n",
      "[I 2025-05-30 23:30:15,534] Trial 86 finished with value: 8.693972145823983 and parameters: {'n_estimators': 947, 'max_depth': 9, 'learning_rate': 0.0479807429287175, 'subsample': 0.9870513018369492, 'colsample_bytree': 0.5012327463513722, 'gamma': 0.10902818732566005, 'reg_alpha': 2.0523855602065852, 'reg_lambda': 0.45499239918808787}. Best is trial 85 with value: 8.624605031575857.\n",
      "[I 2025-05-30 23:30:46,628] Trial 87 finished with value: 8.670056731534537 and parameters: {'n_estimators': 969, 'max_depth': 10, 'learning_rate': 0.040963367866982285, 'subsample': 0.9987790799192152, 'colsample_bytree': 0.5120403445091901, 'gamma': 0.3030501729925583, 'reg_alpha': 1.5062289258824528, 'reg_lambda': 0.5188983493359253}. Best is trial 85 with value: 8.624605031575857.\n",
      "[I 2025-05-30 23:31:11,197] Trial 88 finished with value: 8.767570510898341 and parameters: {'n_estimators': 984, 'max_depth': 11, 'learning_rate': 0.06152462266763709, 'subsample': 0.9711880883848863, 'colsample_bytree': 0.50788349272185, 'gamma': 0.38470782977246737, 'reg_alpha': 1.7717237645526493, 'reg_lambda': 0.5336438167917849}. Best is trial 85 with value: 8.624605031575857.\n",
      "[I 2025-05-30 23:31:41,562] Trial 89 finished with value: 8.681001496791986 and parameters: {'n_estimators': 917, 'max_depth': 10, 'learning_rate': 0.04354813260758478, 'subsample': 0.9997747935588284, 'colsample_bytree': 0.5113858374327516, 'gamma': 0.22028933212991625, 'reg_alpha': 1.5026324486355584, 'reg_lambda': 1.0592741530703031}. Best is trial 85 with value: 8.624605031575857.\n",
      "[I 2025-05-30 23:32:03,984] Trial 90 finished with value: 8.684401583965474 and parameters: {'n_estimators': 1000, 'max_depth': 9, 'learning_rate': 0.04059261022386024, 'subsample': 0.9945414035337042, 'colsample_bytree': 0.5105704055295042, 'gamma': 0.21898971395103267, 'reg_alpha': 1.4952327511832948, 'reg_lambda': 1.068013637754575}. Best is trial 85 with value: 8.624605031575857.\n",
      "[I 2025-05-30 23:32:24,845] Trial 91 finished with value: 8.714451540367532 and parameters: {'n_estimators': 913, 'max_depth': 9, 'learning_rate': 0.045787368713063104, 'subsample': 0.9602082346740454, 'colsample_bytree': 0.5100691526480349, 'gamma': 0.20703608271294682, 'reg_alpha': 1.377751871906253, 'reg_lambda': 0.8683130153185205}. Best is trial 85 with value: 8.624605031575857.\n",
      "[I 2025-05-30 23:32:56,136] Trial 92 finished with value: 8.663437266101248 and parameters: {'n_estimators': 984, 'max_depth': 10, 'learning_rate': 0.04056330181652726, 'subsample': 0.9990578526031845, 'colsample_bytree': 0.5119940128154147, 'gamma': 0.3239557025452416, 'reg_alpha': 1.4640684504745018, 'reg_lambda': 1.0520478498162842}. Best is trial 85 with value: 8.624605031575857.\n",
      "[I 2025-05-30 23:33:28,498] Trial 93 finished with value: 8.678051977293375 and parameters: {'n_estimators': 983, 'max_depth': 10, 'learning_rate': 0.04020748824318352, 'subsample': 0.9886374507052531, 'colsample_bytree': 0.5036431800676867, 'gamma': 0.3207561181102313, 'reg_alpha': 1.5148974795320083, 'reg_lambda': 1.0608117469258587}. Best is trial 85 with value: 8.624605031575857.\n",
      "[I 2025-05-30 23:33:50,521] Trial 94 finished with value: 8.683798461093545 and parameters: {'n_estimators': 990, 'max_depth': 9, 'learning_rate': 0.04115483193927659, 'subsample': 0.996019087959525, 'colsample_bytree': 0.5121013294200497, 'gamma': 0.35011900911022403, 'reg_alpha': 1.4937926164570638, 'reg_lambda': 1.0304648696238061}. Best is trial 85 with value: 8.624605031575857.\n",
      "[I 2025-05-30 23:34:11,647] Trial 95 finished with value: 8.687454333288247 and parameters: {'n_estimators': 952, 'max_depth': 9, 'learning_rate': 0.050917603837963586, 'subsample': 0.996639544070662, 'colsample_bytree': 0.50244443577647, 'gamma': 0.3189257459086156, 'reg_alpha': 2.0354490593326493, 'reg_lambda': 0.9934608783572891}. Best is trial 85 with value: 8.624605031575857.\n",
      "[I 2025-05-30 23:34:26,893] Trial 96 finished with value: 8.790972014791297 and parameters: {'n_estimators': 978, 'max_depth': 8, 'learning_rate': 0.04551797202779608, 'subsample': 0.9848328801704547, 'colsample_bytree': 0.5229763208247418, 'gamma': 0.00027824837948964287, 'reg_alpha': 1.4714318341584596, 'reg_lambda': 1.2003443936334628}. Best is trial 85 with value: 8.624605031575857.\n",
      "[I 2025-05-30 23:34:50,594] Trial 97 finished with value: 8.71089677330726 and parameters: {'n_estimators': 940, 'max_depth': 10, 'learning_rate': 0.05359916475684868, 'subsample': 0.9994896794672251, 'colsample_bytree': 0.5312233507661901, 'gamma': 0.5073709198180334, 'reg_alpha': 1.0591842211154003, 'reg_lambda': 0.8824680779356713}. Best is trial 85 with value: 8.624605031575857.\n",
      "[I 2025-05-30 23:35:33,293] Trial 98 finished with value: 8.67477516960319 and parameters: {'n_estimators': 910, 'max_depth': 11, 'learning_rate': 0.03304845770032547, 'subsample': 0.9676287294824095, 'colsample_bytree': 0.5001701361695599, 'gamma': 0.35069719746059236, 'reg_alpha': 0.8501753792836338, 'reg_lambda': 1.282399161760669}. Best is trial 85 with value: 8.624605031575857.\n",
      "[I 2025-05-30 23:36:18,593] Trial 99 finished with value: 8.67035635632718 and parameters: {'n_estimators': 917, 'max_depth': 11, 'learning_rate': 0.03277055769056102, 'subsample': 0.9676909362307695, 'colsample_bytree': 0.5024716864766569, 'gamma': 0.12967513106356238, 'reg_alpha': 1.2308181970995897, 'reg_lambda': 0.6273518643981442}. Best is trial 85 with value: 8.624605031575857.\n",
      "2025/05/30 23:36:28 WARNING mlflow.models.model: Model logged without a signature and input example. Please set `input_example` parameter when logging the model to auto infer the model signature.\n"
     ]
    },
    {
     "name": "stdout",
     "output_type": "stream",
     "text": [
      "Model saved to ../outputs/models/xgboost_optuna_optuna_2.joblib\n",
      "Best Validation RMSE: 8.6246, Accuracy: 0.9335\n"
     ]
    }
   ],
   "source": [
    "from src.data.model_training import optimize_xgboost_with_optuna\n",
    "\n",
    "xgbmodel, val_rmse, best_params = optimize_xgboost_with_optuna(\n",
    "    X_train, y_train, X_val, y_val,\n",
    "    config_path=\"../configs/config.yaml\",\n",
    "    suffix=\"optuna_2\",\n",
    "    n_trials=100\n",
    ")"
   ]
  },
  {
   "cell_type": "code",
   "execution_count": 6,
   "metadata": {},
   "outputs": [
    {
     "name": "stdout",
     "output_type": "stream",
     "text": [
      "Predictions saved to ../outputs/predictions/predictions_xgb_2.csv\n"
     ]
    }
   ],
   "source": [
    "import sys\n",
    "sys.path.append('..')\n",
    "from src.utils.io import load_model\n",
    "from src.data.model_training import predict_and_save\n",
    "# get predictions for the test datafrom src.utils.io import load_model\n",
    "model = load_model(\"../outputs/models/xgboost_optuna_optuna.joblib\")\n",
    "X_test = test_df  \n",
    "predict_and_save(model, X_test, config_path=\"../configs/config.yaml\", suffix=\"xgb_2\")"
   ]
  },
  {
   "cell_type": "markdown",
   "metadata": {},
   "source": [
    "#### 3.2.1 Feature importance of XGB model"
   ]
  },
  {
   "cell_type": "code",
   "execution_count": 4,
   "metadata": {},
   "outputs": [
    {
     "name": "stdout",
     "output_type": "stream",
     "text": [
      "                               feature  importance\n",
      "74         composition_label_1_encoded    0.286913\n",
      "77            track_identifier_encoded    0.215141\n",
      "75         composition_label_2_encoded    0.208035\n",
      "76          creator_collective_encoded    0.046694\n",
      "73         composition_label_0_encoded    0.046539\n",
      "64                 is_new_year_release    0.009245\n",
      "53                        release_year    0.007129\n",
      "69            songs_released_that_year    0.006730\n",
      "72  release_dayofweek_popularity_score    0.005196\n",
      "82         weekday_of_release_Thursday    0.005132\n",
      "63                  is_valentines_week    0.004976\n",
      "85            season_of_release_autumn    0.004070\n",
      "20                    time_signature_1    0.003899\n",
      "70           songs_released_that_month    0.003679\n",
      "56                   release_dayofweek    0.003550\n",
      "84        weekday_of_release_Wednesday    0.003127\n",
      "13               album_component_count    0.002856\n",
      "29                 organic_immersion_0    0.002834\n",
      "81           weekday_of_release_Sunday    0.002586\n",
      "79           weekday_of_release_Monday    0.002566\n"
     ]
    }
   ],
   "source": [
    "import sys\n",
    "sys.path.append('..')\n",
    "from src.utils.io import load_model\n",
    "\n",
    "model = load_model(\"../outputs/models/xgboost_optuna_optuna.joblib\")\n",
    "\n",
    "# Get feature importances\n",
    "importances = model.feature_importances_\n",
    "feature_names = X_train.columns\n",
    "\n",
    "# Create and sort DataFrame\n",
    "importance_df = pd.DataFrame({\n",
    "    \"feature\": feature_names,\n",
    "    \"importance\": importances\n",
    "}).sort_values(by=\"importance\", ascending=False)\n",
    "\n",
    "# Display top 20 features\n",
    "print(importance_df.head(20))\n",
    "\n"
   ]
  },
  {
   "cell_type": "code",
   "execution_count": null,
   "metadata": {},
   "outputs": [],
   "source": []
  }
 ],
 "metadata": {
  "kernelspec": {
   "display_name": "env",
   "language": "python",
   "name": "python3"
  },
  "language_info": {
   "codemirror_mode": {
    "name": "ipython",
    "version": 3
   },
   "file_extension": ".py",
   "mimetype": "text/x-python",
   "name": "python",
   "nbconvert_exporter": "python",
   "pygments_lexer": "ipython3",
   "version": "3.12.8"
  }
 },
 "nbformat": 4,
 "nbformat_minor": 2
}
