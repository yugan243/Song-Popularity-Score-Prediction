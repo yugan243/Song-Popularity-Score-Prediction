{
 "cells": [
  {
   "cell_type": "markdown",
   "metadata": {},
   "source": [
    "# Model Training"
   ]
  },
  {
   "cell_type": "markdown",
   "metadata": {},
   "source": [
    "## 1. Preparing Environment"
   ]
  },
  {
   "cell_type": "code",
   "execution_count": 1,
   "metadata": {},
   "outputs": [],
   "source": [
    "import pandas as pd\n",
    "import numpy as np\n",
    "import seaborn as sns\n",
    "import matplotlib.pyplot as plt\n",
    "%matplotlib inline\n",
    "import yaml\n",
    "from sklearn.model_selection import train_test_split\n",
    "\n",
    "import warnings \n",
    "warnings.filterwarnings('ignore')"
   ]
  },
  {
   "cell_type": "markdown",
   "metadata": {},
   "source": [
    "## 2. Spliting data set"
   ]
  },
  {
   "cell_type": "code",
   "execution_count": 2,
   "metadata": {},
   "outputs": [
    {
     "name": "stdout",
     "output_type": "stream",
     "text": [
      "Loading training data from ../data/processed/train_encoded.csv\n",
      "Loading test data from ../data/processed/test_encoded.csv\n",
      "Train shape: (61609, 97)\n",
      "Test shape: (41074, 96)\n"
     ]
    }
   ],
   "source": [
    "import sys\n",
    "sys.path.append('..')\n",
    "\n",
    "from src.utils.utils import load_config\n",
    "from src.data.load_data import load_data\n",
    "\n",
    "config = load_config('../configs/config.yaml')\n",
    "\n",
    "# Load data\n",
    "train_df, test_df = load_data(train_path=\"../data/processed/train_encoded.csv\",\n",
    "                              test_path=\"../data/processed/test_encoded.csv\"\n",
    "                              )\n",
    "\n",
    "# Split features and target\n",
    "X = train_df.drop(columns=[config[\"model\"][\"target_column\"]])\n",
    "y = train_df[config[\"model\"][\"target_column\"]]\n",
    "\n",
    "# Split into train/validation\n",
    "X_train, X_val, y_train, y_val = train_test_split(\n",
    "    X, y, \n",
    "    test_size=config[\"test_size\"], \n",
    "    random_state=config[\"random_seed\"]\n",
    ")"
   ]
  },
  {
   "cell_type": "markdown",
   "metadata": {},
   "source": [
    "## 3. Model Tranining and Baseline"
   ]
  },
  {
   "cell_type": "markdown",
   "metadata": {},
   "source": [
    "### 3.1 Baseline model - Random Forest Regressor"
   ]
  },
  {
   "cell_type": "code",
   "execution_count": 3,
   "metadata": {},
   "outputs": [
    {
     "name": "stderr",
     "output_type": "stream",
     "text": [
      "2025/05/30 04:39:16 WARNING mlflow.models.model: Model logged without a signature and input example. Please set `input_example` parameter when logging the model to auto infer the model signature.\n"
     ]
    },
    {
     "name": "stdout",
     "output_type": "stream",
     "text": [
      "Model saved to ../outputs/models/random_forest_3.joblib\n",
      "Validation RMSE: 4.3169\n"
     ]
    }
   ],
   "source": [
    "from src.data.model_training import train_and_evaluate\n",
    "\n",
    "model, val_rmse = train_and_evaluate(\n",
    "    X_train, y_train, X_val, y_val, \n",
    "    config_path=\"../configs/config.yaml\", \n",
    "    params_path=\"../configs/model_params.yaml\",\n",
    "    suffix=3\n",
    ")\n"
   ]
  },
  {
   "cell_type": "code",
   "execution_count": 4,
   "metadata": {},
   "outputs": [
    {
     "name": "stdout",
     "output_type": "stream",
     "text": [
      "Predictions saved to ../outputs/predictions/random_forest_predictions_6.csv\n"
     ]
    }
   ],
   "source": [
    "from src.utils.io import load_model\n",
    "from src.data.model_training import predict_and_save\n",
    "# get predictions for the test datafrom src.utils.io import load_model\n",
    "model = load_model(\"../outputs/models/random_forest_3.joblib\")\n",
    "X_test = test_df  \n",
    "predict_and_save(model, X_test, config_path=\"../configs/config.yaml\", suffix=\"_6\")"
   ]
  },
  {
   "cell_type": "markdown",
   "metadata": {},
   "source": [
    "### 3.2 Optuna-Optimized XGBoost"
   ]
  },
  {
   "cell_type": "code",
   "execution_count": 3,
   "metadata": {},
   "outputs": [
    {
     "name": "stderr",
     "output_type": "stream",
     "text": [
      "[I 2025-05-30 05:05:49,944] A new study created in memory with name: no-name-4cbffd4f-1b1b-4be1-92c8-70935652a6c1\n",
      "[I 2025-05-30 05:05:53,233] Trial 0 finished with value: 4.212680774284977 and parameters: {'n_estimators': 691, 'max_depth': 3, 'learning_rate': 0.15150489807299353, 'subsample': 0.914508599767698, 'colsample_bytree': 0.9764012506727722, 'gamma': 3.371930207152678, 'reg_alpha': 1.748238792224276, 'reg_lambda': 4.060478307764652}. Best is trial 0 with value: 4.212680774284977.\n",
      "[I 2025-05-30 05:06:03,926] Trial 1 finished with value: 2.891508060323374 and parameters: {'n_estimators': 510, 'max_depth': 9, 'learning_rate': 0.036728524384104885, 'subsample': 0.6056040575131305, 'colsample_bytree': 0.6838508296626272, 'gamma': 4.8994169500433085, 'reg_alpha': 0.42883951744567994, 'reg_lambda': 0.8070364504519806}. Best is trial 1 with value: 2.891508060323374.\n",
      "[I 2025-05-30 05:06:32,257] Trial 2 finished with value: 2.932844002686095 and parameters: {'n_estimators': 673, 'max_depth': 14, 'learning_rate': 0.030151110543656906, 'subsample': 0.5540647874406746, 'colsample_bytree': 0.9354628238186946, 'gamma': 4.464668485543247, 'reg_alpha': 1.0521115151127713, 'reg_lambda': 4.108406467290356}. Best is trial 1 with value: 2.891508060323374.\n",
      "[I 2025-05-30 05:06:33,829] Trial 3 finished with value: 4.145173191184188 and parameters: {'n_estimators': 223, 'max_depth': 4, 'learning_rate': 0.21008490840292227, 'subsample': 0.6505834357509783, 'colsample_bytree': 0.6882766254434862, 'gamma': 4.892786192369888, 'reg_alpha': 1.935121337216975, 'reg_lambda': 1.4684821221235067}. Best is trial 1 with value: 2.891508060323374.\n",
      "[I 2025-05-30 05:07:22,790] Trial 4 finished with value: 2.8584740058233473 and parameters: {'n_estimators': 828, 'max_depth': 15, 'learning_rate': 0.01308859398772636, 'subsample': 0.5007405196819266, 'colsample_bytree': 0.684140170439883, 'gamma': 3.322868902418563, 'reg_alpha': 3.30508486487187, 'reg_lambda': 1.2764167410990146}. Best is trial 4 with value: 2.8584740058233473.\n",
      "[I 2025-05-30 05:07:26,347] Trial 5 finished with value: 4.000428653637232 and parameters: {'n_estimators': 469, 'max_depth': 5, 'learning_rate': 0.05939553071971188, 'subsample': 0.9743762408557082, 'colsample_bytree': 0.6569674783648115, 'gamma': 4.419938483201264, 'reg_alpha': 4.840809000418921, 'reg_lambda': 2.3388782922293574}. Best is trial 4 with value: 2.8584740058233473.\n",
      "[I 2025-05-30 05:07:34,841] Trial 6 finished with value: 2.8202319358245136 and parameters: {'n_estimators': 927, 'max_depth': 6, 'learning_rate': 0.10855018449558614, 'subsample': 0.8908168957613907, 'colsample_bytree': 0.9082468788514755, 'gamma': 2.7154225865227106, 'reg_alpha': 4.4381258709741696, 'reg_lambda': 0.629252531811364}. Best is trial 6 with value: 2.8202319358245136.\n",
      "[I 2025-05-30 05:08:17,824] Trial 7 finished with value: 2.816548887495233 and parameters: {'n_estimators': 879, 'max_depth': 11, 'learning_rate': 0.031066169305728385, 'subsample': 0.6314312317616808, 'colsample_bytree': 0.9611928672985325, 'gamma': 0.4686871762512701, 'reg_alpha': 4.3343585110447105, 'reg_lambda': 1.4648629745841162}. Best is trial 7 with value: 2.816548887495233.\n",
      "[I 2025-05-30 05:08:22,474] Trial 8 finished with value: 5.533575226578925 and parameters: {'n_estimators': 585, 'max_depth': 4, 'learning_rate': 0.01064640916856311, 'subsample': 0.576878665724395, 'colsample_bytree': 0.7238788478166596, 'gamma': 4.063958796693145, 'reg_alpha': 1.6594566049237085, 'reg_lambda': 1.2962138448757825}. Best is trial 7 with value: 2.816548887495233.\n",
      "[I 2025-05-30 05:08:25,327] Trial 9 finished with value: 5.2548941552040285 and parameters: {'n_estimators': 446, 'max_depth': 3, 'learning_rate': 0.06231405597516053, 'subsample': 0.7833035142074793, 'colsample_bytree': 0.557482697312197, 'gamma': 2.2576213292892584, 'reg_alpha': 0.6343489438761285, 'reg_lambda': 1.3236840970480905}. Best is trial 7 with value: 2.816548887495233.\n",
      "[I 2025-05-30 05:09:14,466] Trial 10 finished with value: 2.764217212373184 and parameters: {'n_estimators': 982, 'max_depth': 11, 'learning_rate': 0.022148970313496486, 'subsample': 0.7299145941459692, 'colsample_bytree': 0.8343560521048606, 'gamma': 0.21792161387881342, 'reg_alpha': 3.501630217914374, 'reg_lambda': 2.913546847606724}. Best is trial 10 with value: 2.764217212373184.\n",
      "[I 2025-05-30 05:10:19,962] Trial 11 finished with value: 2.767662633926092 and parameters: {'n_estimators': 995, 'max_depth': 12, 'learning_rate': 0.02239988453554195, 'subsample': 0.724037460049812, 'colsample_bytree': 0.8276621240632712, 'gamma': 0.11749411958107653, 'reg_alpha': 3.394451753632883, 'reg_lambda': 2.73738888466397}. Best is trial 10 with value: 2.764217212373184.\n",
      "[I 2025-05-30 05:11:34,427] Trial 12 finished with value: 2.784071873049512 and parameters: {'n_estimators': 992, 'max_depth': 12, 'learning_rate': 0.01842640667721076, 'subsample': 0.7416545228656013, 'colsample_bytree': 0.8326923406920238, 'gamma': 0.2612462738913377, 'reg_alpha': 3.141482845669931, 'reg_lambda': 3.16539257195416}. Best is trial 10 with value: 2.764217212373184.\n",
      "[I 2025-05-30 05:11:49,814] Trial 13 finished with value: 3.164298795188971 and parameters: {'n_estimators': 814, 'max_depth': 8, 'learning_rate': 0.019303328285161823, 'subsample': 0.7334150220662567, 'colsample_bytree': 0.8248001392145241, 'gamma': 1.185108420611679, 'reg_alpha': 3.4760226248474884, 'reg_lambda': 2.85071199663669}. Best is trial 10 with value: 2.764217212373184.\n",
      "[I 2025-05-30 05:12:03,154] Trial 14 finished with value: 3.9240152666609593 and parameters: {'n_estimators': 146, 'max_depth': 12, 'learning_rate': 0.0186776455766558, 'subsample': 0.8300030950700391, 'colsample_bytree': 0.7977369302898255, 'gamma': 1.2621208416989693, 'reg_alpha': 2.8399146859668596, 'reg_lambda': 4.776902307907104}. Best is trial 10 with value: 2.764217212373184.\n",
      "[I 2025-05-30 05:12:29,958] Trial 15 finished with value: 2.824445659971672 and parameters: {'n_estimators': 996, 'max_depth': 11, 'learning_rate': 0.045000909476377964, 'subsample': 0.6937421915758888, 'colsample_bytree': 0.8793540659210344, 'gamma': 1.173426789163452, 'reg_alpha': 3.83102961143087, 'reg_lambda': 2.304960176215262}. Best is trial 10 with value: 2.764217212373184.\n",
      "[I 2025-05-30 05:13:03,130] Trial 16 finished with value: 2.8523556794977867 and parameters: {'n_estimators': 738, 'max_depth': 13, 'learning_rate': 0.08871490573698348, 'subsample': 0.824189672102845, 'colsample_bytree': 0.7736591839853113, 'gamma': 0.055511678585931534, 'reg_alpha': 2.4747048415047623, 'reg_lambda': 3.4510386427182467}. Best is trial 10 with value: 2.764217212373184.\n",
      "[I 2025-05-30 05:13:17,039] Trial 17 finished with value: 3.1348240356707646 and parameters: {'n_estimators': 341, 'max_depth': 10, 'learning_rate': 0.023663688244734166, 'subsample': 0.6868148438618243, 'colsample_bytree': 0.86537298463344, 'gamma': 1.8238734304346966, 'reg_alpha': 3.8707272994451936, 'reg_lambda': 2.28303682297561}. Best is trial 10 with value: 2.764217212373184.\n",
      "[I 2025-05-30 05:13:30,558] Trial 18 finished with value: 3.3102360312215593 and parameters: {'n_estimators': 765, 'max_depth': 8, 'learning_rate': 0.014108903037570866, 'subsample': 0.7866440369251153, 'colsample_bytree': 0.586862367533282, 'gamma': 0.6881519004571457, 'reg_alpha': 2.69971893067223, 'reg_lambda': 0.05394834105719504}. Best is trial 10 with value: 2.764217212373184.\n",
      "[I 2025-05-30 05:14:14,311] Trial 19 finished with value: 2.7960333383561826 and parameters: {'n_estimators': 906, 'max_depth': 13, 'learning_rate': 0.02673019950333949, 'subsample': 0.7011384095198425, 'colsample_bytree': 0.7498685623870494, 'gamma': 0.7747734594227562, 'reg_alpha': 2.390900995231065, 'reg_lambda': 3.831024367545208}. Best is trial 10 with value: 2.764217212373184.\n",
      "[I 2025-05-30 05:14:22,732] Trial 20 finished with value: 3.1194607278412634 and parameters: {'n_estimators': 597, 'max_depth': 7, 'learning_rate': 0.04425958329206041, 'subsample': 0.8752889328412026, 'colsample_bytree': 0.8735327333300158, 'gamma': 1.8918845557347117, 'reg_alpha': 3.900997137995571, 'reg_lambda': 2.7641585786414837}. Best is trial 10 with value: 2.764217212373184.\n",
      "[I 2025-05-30 05:15:16,966] Trial 21 finished with value: 2.806288663262202 and parameters: {'n_estimators': 986, 'max_depth': 11, 'learning_rate': 0.016550420073658575, 'subsample': 0.754535726326356, 'colsample_bytree': 0.8282424789421293, 'gamma': 0.025979610930141367, 'reg_alpha': 3.161684912335718, 'reg_lambda': 3.206907374843726}. Best is trial 10 with value: 2.764217212373184.\n",
      "[I 2025-05-30 05:16:31,974] Trial 22 finished with value: 2.7888350193635105 and parameters: {'n_estimators': 995, 'max_depth': 13, 'learning_rate': 0.021563618708852497, 'subsample': 0.7360406833087965, 'colsample_bytree': 0.8283402366535518, 'gamma': 0.4446230871292239, 'reg_alpha': 3.140465306245531, 'reg_lambda': 1.9455906540244379}. Best is trial 10 with value: 2.764217212373184.\n",
      "[I 2025-05-30 05:17:25,710] Trial 23 finished with value: 3.053782453391866 and parameters: {'n_estimators': 894, 'max_depth': 10, 'learning_rate': 0.010908349449489521, 'subsample': 0.6584267168386172, 'colsample_bytree': 0.7899763872313011, 'gamma': 0.046768568310153136, 'reg_alpha': 3.631349522489529, 'reg_lambda': 3.331272146528734}. Best is trial 10 with value: 2.764217212373184.\n",
      "[I 2025-05-30 05:18:45,886] Trial 24 finished with value: 2.8274153351187024 and parameters: {'n_estimators': 838, 'max_depth': 15, 'learning_rate': 0.014940329094098925, 'subsample': 0.8153784256434793, 'colsample_bytree': 0.7367808917844583, 'gamma': 0.9464683398787822, 'reg_alpha': 4.229828149929708, 'reg_lambda': 2.9379866058777}. Best is trial 10 with value: 2.764217212373184.\n",
      "[I 2025-05-30 05:19:29,775] Trial 25 finished with value: 2.811059710150384 and parameters: {'n_estimators': 927, 'max_depth': 12, 'learning_rate': 0.03670906968643559, 'subsample': 0.7571866488823822, 'colsample_bytree': 0.9229773580021591, 'gamma': 0.403284575271435, 'reg_alpha': 4.927408282502655, 'reg_lambda': 3.6372407576210293}. Best is trial 10 with value: 2.764217212373184.\n",
      "[I 2025-05-30 05:20:07,880] Trial 26 finished with value: 2.8284253545779987 and parameters: {'n_estimators': 766, 'max_depth': 10, 'learning_rate': 0.02519371014258916, 'subsample': 0.7068093752196852, 'colsample_bytree': 0.8540607047609377, 'gamma': 1.5449942770925336, 'reg_alpha': 2.138630301924938, 'reg_lambda': 4.784593817782822}. Best is trial 10 with value: 2.764217212373184.\n",
      "[I 2025-05-30 05:20:32,273] Trial 27 finished with value: 2.8433909765961793 and parameters: {'n_estimators': 958, 'max_depth': 12, 'learning_rate': 0.07774766876601313, 'subsample': 0.8520895073593752, 'colsample_bytree': 0.5086160617138659, 'gamma': 0.4667341917922404, 'reg_alpha': 2.975129375234956, 'reg_lambda': 2.0204787995455664}. Best is trial 10 with value: 2.764217212373184.\n",
      "[I 2025-05-30 05:21:46,039] Trial 28 finished with value: 2.873225784177142 and parameters: {'n_estimators': 853, 'max_depth': 14, 'learning_rate': 0.020088226254667087, 'subsample': 0.7865532179050464, 'colsample_bytree': 0.9095349115912121, 'gamma': 0.8644005580048231, 'reg_alpha': 1.3143723737764605, 'reg_lambda': 2.63288272780191}. Best is trial 10 with value: 2.764217212373184.\n",
      "[I 2025-05-30 05:21:59,501] Trial 29 finished with value: 2.9455284626352425 and parameters: {'n_estimators': 691, 'max_depth': 9, 'learning_rate': 0.14589577584957358, 'subsample': 0.6558493594777816, 'colsample_bytree': 0.9930124059955069, 'gamma': 2.62217581593553, 'reg_alpha': 3.399914207753055, 'reg_lambda': 4.187573004516864}. Best is trial 10 with value: 2.764217212373184.\n",
      "[I 2025-05-30 05:23:07,497] Trial 30 finished with value: 2.8744502993294963 and parameters: {'n_estimators': 663, 'max_depth': 14, 'learning_rate': 0.012487844277533237, 'subsample': 0.9461829906478165, 'colsample_bytree': 0.7780056111242495, 'gamma': 3.153949363626139, 'reg_alpha': 2.643501466269272, 'reg_lambda': 3.1506417601891434}. Best is trial 10 with value: 2.764217212373184.\n",
      "[I 2025-05-30 05:24:31,199] Trial 31 finished with value: 2.7788972654457478 and parameters: {'n_estimators': 988, 'max_depth': 13, 'learning_rate': 0.022011080934762707, 'subsample': 0.7319779903631175, 'colsample_bytree': 0.8295264539782905, 'gamma': 0.31663961302493865, 'reg_alpha': 3.041577014729304, 'reg_lambda': 2.012301344442017}. Best is trial 10 with value: 2.764217212373184.\n",
      "[I 2025-05-30 05:25:34,670] Trial 32 finished with value: 2.7807236934269093 and parameters: {'n_estimators': 947, 'max_depth': 12, 'learning_rate': 0.039919880728911866, 'subsample': 0.7311004799770958, 'colsample_bytree': 0.8189567218096067, 'gamma': 0.2324099748498339, 'reg_alpha': 3.6436972491583837, 'reg_lambda': 1.8988317951991762}. Best is trial 10 with value: 2.764217212373184.\n",
      "[I 2025-05-30 05:26:26,113] Trial 33 finished with value: 2.801235273902108 and parameters: {'n_estimators': 939, 'max_depth': 13, 'learning_rate': 0.035255003659042064, 'subsample': 0.6013584920211081, 'colsample_bytree': 0.8111530716579646, 'gamma': 0.6768022137136906, 'reg_alpha': 4.108763462012563, 'reg_lambda': 1.9317204399495314}. Best is trial 10 with value: 2.764217212373184.\n",
      "[I 2025-05-30 05:26:52,984] Trial 34 finished with value: 2.8381540762951922 and parameters: {'n_estimators': 801, 'max_depth': 11, 'learning_rate': 0.04743131217817083, 'subsample': 0.7154747873930599, 'colsample_bytree': 0.8958366820796023, 'gamma': 1.5029113950304436, 'reg_alpha': 0.04518571018436024, 'reg_lambda': 0.9525703844562564}. Best is trial 10 with value: 2.764217212373184.\n",
      "[I 2025-05-30 05:28:16,377] Trial 35 finished with value: 2.884753227852932 and parameters: {'n_estimators': 869, 'max_depth': 14, 'learning_rate': 0.028146059751549324, 'subsample': 0.6768395454674226, 'colsample_bytree': 0.9550462038279186, 'gamma': 0.27082568636913174, 'reg_alpha': 3.6292833646024776, 'reg_lambda': 1.6893913998784942}. Best is trial 10 with value: 2.764217212373184.\n",
      "[I 2025-05-30 05:28:30,992] Trial 36 finished with value: 3.0550146683810597 and parameters: {'n_estimators': 944, 'max_depth': 9, 'learning_rate': 0.26959662000415374, 'subsample': 0.7812552444271121, 'colsample_bytree': 0.7688561268254814, 'gamma': 0.9156452372010515, 'reg_alpha': 2.275348434638654, 'reg_lambda': 2.5448433630523626}. Best is trial 10 with value: 2.764217212373184.\n",
      "[I 2025-05-30 05:29:30,850] Trial 37 finished with value: 2.7493339945862965 and parameters: {'n_estimators': 895, 'max_depth': 12, 'learning_rate': 0.0332568440742789, 'subsample': 0.6170130708408252, 'colsample_bytree': 0.7124048049337199, 'gamma': 0.22610893210288074, 'reg_alpha': 4.593313035011255, 'reg_lambda': 1.7185188146160664}. Best is trial 37 with value: 2.7493339945862965.\n",
      "[I 2025-05-30 05:30:05,514] Trial 38 finished with value: 2.7300626046125314 and parameters: {'n_estimators': 894, 'max_depth': 10, 'learning_rate': 0.031736755757617446, 'subsample': 0.6168548934958198, 'colsample_bytree': 0.6518263912676363, 'gamma': 0.5928580145731137, 'reg_alpha': 4.687838609849278, 'reg_lambda': 0.9966651490083693}. Best is trial 38 with value: 2.7300626046125314.\n",
      "[I 2025-05-30 05:30:31,967] Trial 39 finished with value: 2.790829224498508 and parameters: {'n_estimators': 722, 'max_depth': 10, 'learning_rate': 0.03304469568181933, 'subsample': 0.5260101794724575, 'colsample_bytree': 0.6452310955584124, 'gamma': 3.8575426614342208, 'reg_alpha': 4.638552544417946, 'reg_lambda': 0.7475801466032168}. Best is trial 38 with value: 2.7300626046125314.\n",
      "[I 2025-05-30 05:30:40,557] Trial 40 finished with value: 3.1071321459054717 and parameters: {'n_estimators': 316, 'max_depth': 8, 'learning_rate': 0.05348128261401692, 'subsample': 0.6245597693705718, 'colsample_bytree': 0.696742608666571, 'gamma': 0.6116915884281762, 'reg_alpha': 4.609414858705252, 'reg_lambda': 0.17085277923579545}. Best is trial 38 with value: 2.7300626046125314.\n",
      "[I 2025-05-30 05:31:37,439] Trial 41 finished with value: 2.708118038912467 and parameters: {'n_estimators': 896, 'max_depth': 11, 'learning_rate': 0.029841458199633856, 'subsample': 0.5689566083742684, 'colsample_bytree': 0.6388753146411157, 'gamma': 0.05721651585118254, 'reg_alpha': 4.5114072613815, 'reg_lambda': 1.0245304890824074}. Best is trial 41 with value: 2.708118038912467.\n",
      "[I 2025-05-30 05:32:30,615] Trial 42 finished with value: 2.7225440726027568 and parameters: {'n_estimators': 879, 'max_depth': 11, 'learning_rate': 0.028861050441960596, 'subsample': 0.5686165382131492, 'colsample_bytree': 0.6155568163972882, 'gamma': 0.15441772607611326, 'reg_alpha': 4.996297811506053, 'reg_lambda': 0.44837727449132336}. Best is trial 41 with value: 2.708118038912467.\n",
      "[I 2025-05-30 05:33:17,957] Trial 43 finished with value: 2.7208380737574953 and parameters: {'n_estimators': 887, 'max_depth': 11, 'learning_rate': 0.03144825632681666, 'subsample': 0.5708743394886715, 'colsample_bytree': 0.639720565948607, 'gamma': 0.5398165140419822, 'reg_alpha': 4.978364703049993, 'reg_lambda': 0.4147352737575501}. Best is trial 41 with value: 2.708118038912467.\n",
      "[I 2025-05-30 05:33:53,321] Trial 44 finished with value: 2.7370581840822745 and parameters: {'n_estimators': 813, 'max_depth': 10, 'learning_rate': 0.029784221243392302, 'subsample': 0.560754553257842, 'colsample_bytree': 0.6231776490801642, 'gamma': 1.0297017722256145, 'reg_alpha': 4.995095795040202, 'reg_lambda': 0.30002688595268256}. Best is trial 41 with value: 2.708118038912467.\n",
      "[I 2025-05-30 05:34:18,399] Trial 45 finished with value: 2.765610861876821 and parameters: {'n_estimators': 809, 'max_depth': 10, 'learning_rate': 0.06522543694445551, 'subsample': 0.5541268099318221, 'colsample_bytree': 0.6260625091104881, 'gamma': 1.0589494457184396, 'reg_alpha': 4.874862242896821, 'reg_lambda': 0.44812897329326784}. Best is trial 41 with value: 2.708118038912467.\n",
      "[I 2025-05-30 05:34:33,019] Trial 46 finished with value: 2.9103538497302432 and parameters: {'n_estimators': 653, 'max_depth': 9, 'learning_rate': 0.02931427741485859, 'subsample': 0.5028257452693805, 'colsample_bytree': 0.5922771903137123, 'gamma': 1.445824091274294, 'reg_alpha': 4.438105471843473, 'reg_lambda': 0.9447662375629846}. Best is trial 41 with value: 2.708118038912467.\n",
      "[I 2025-05-30 05:34:51,460] Trial 47 finished with value: 2.7822185073045027 and parameters: {'n_estimators': 775, 'max_depth': 11, 'learning_rate': 0.04035164588309567, 'subsample': 0.5887842255962705, 'colsample_bytree': 0.6531774706957344, 'gamma': 2.2253642944263405, 'reg_alpha': 4.989124941509203, 'reg_lambda': 0.2661288038637702}. Best is trial 41 with value: 2.708118038912467.\n",
      "[I 2025-05-30 05:35:16,657] Trial 48 finished with value: 2.689646905748057 and parameters: {'n_estimators': 865, 'max_depth': 9, 'learning_rate': 0.051136367118974096, 'subsample': 0.559733909032986, 'colsample_bytree': 0.6161435613805956, 'gamma': 0.6016139216001959, 'reg_alpha': 4.72479773410642, 'reg_lambda': 0.46728944377976117}. Best is trial 48 with value: 2.689646905748057.\n",
      "[I 2025-05-30 05:35:32,749] Trial 49 finished with value: 2.8912362766888493 and parameters: {'n_estimators': 864, 'max_depth': 7, 'learning_rate': 0.05336831121926794, 'subsample': 0.5293512845327751, 'colsample_bytree': 0.5608017417257489, 'gamma': 0.587806772396822, 'reg_alpha': 4.669241269209752, 'reg_lambda': 1.112921606384644}. Best is trial 48 with value: 2.689646905748057.\n",
      "[I 2025-05-30 05:35:46,924] Trial 50 finished with value: 2.8017406230411175 and parameters: {'n_estimators': 623, 'max_depth': 8, 'learning_rate': 0.07395577597707757, 'subsample': 0.5801865084579219, 'colsample_bytree': 0.6706164213990252, 'gamma': 4.705669226612928, 'reg_alpha': 4.169779154921427, 'reg_lambda': 0.5369093555514091}. Best is trial 48 with value: 2.689646905748057.\n",
      "[I 2025-05-30 05:36:24,512] Trial 51 finished with value: 2.7368954622418875 and parameters: {'n_estimators': 831, 'max_depth': 10, 'learning_rate': 0.02988392576495178, 'subsample': 0.5565722797421834, 'colsample_bytree': 0.6181798339364568, 'gamma': 0.517121730306801, 'reg_alpha': 4.703062912548148, 'reg_lambda': 0.37591867873595675}. Best is trial 48 with value: 2.689646905748057.\n",
      "[I 2025-05-30 05:36:42,925] Trial 52 finished with value: 2.8331954772921737 and parameters: {'n_estimators': 540, 'max_depth': 9, 'learning_rate': 0.04112794606232002, 'subsample': 0.5374275467033094, 'colsample_bytree': 0.6069191453035925, 'gamma': 0.49239484628135155, 'reg_alpha': 4.736823244331602, 'reg_lambda': 0.7110517564713483}. Best is trial 48 with value: 2.689646905748057.\n",
      "[I 2025-05-30 05:37:17,788] Trial 53 finished with value: 2.7409244247644824 and parameters: {'n_estimators': 906, 'max_depth': 11, 'learning_rate': 0.04820106804613704, 'subsample': 0.5732957725579345, 'colsample_bytree': 0.5646306921862901, 'gamma': 0.7949577934875438, 'reg_alpha': 4.360129611821194, 'reg_lambda': 0.47041689388028485}. Best is trial 48 with value: 2.689646905748057.\n",
      "[I 2025-05-30 05:37:35,208] Trial 54 finished with value: 2.8743792983369483 and parameters: {'n_estimators': 724, 'max_depth': 10, 'learning_rate': 0.10580018816295315, 'subsample': 0.6016105785194019, 'colsample_bytree': 0.5188228873805157, 'gamma': 1.3059937242321737, 'reg_alpha': 4.0405154626391795, 'reg_lambda': 1.1631592833064028}. Best is trial 48 with value: 2.689646905748057.\n",
      "[I 2025-05-30 05:37:51,504] Trial 55 finished with value: 3.218938433122086 and parameters: {'n_estimators': 854, 'max_depth': 7, 'learning_rate': 0.025572480319057365, 'subsample': 0.5034839942805142, 'colsample_bytree': 0.633000892636503, 'gamma': 0.5853653502740224, 'reg_alpha': 4.53608075336906, 'reg_lambda': 0.009784582349160242}. Best is trial 48 with value: 2.689646905748057.\n",
      "[I 2025-05-30 05:38:19,498] Trial 56 finished with value: 2.8013033626296138 and parameters: {'n_estimators': 779, 'max_depth': 9, 'learning_rate': 0.03326468801654057, 'subsample': 0.5419221886988609, 'colsample_bytree': 0.6763883181430674, 'gamma': 0.05436097909545416, 'reg_alpha': 4.350129032713187, 'reg_lambda': 0.8924216611860624}. Best is trial 48 with value: 2.689646905748057.\n",
      "[I 2025-05-30 05:38:39,300] Trial 57 finished with value: 2.7984299413088 and parameters: {'n_estimators': 443, 'max_depth': 11, 'learning_rate': 0.06055362959212577, 'subsample': 0.6385675048776179, 'colsample_bytree': 0.6025666506899126, 'gamma': 1.8145367801659031, 'reg_alpha': 4.776060551568603, 'reg_lambda': 1.4960482033513998}. Best is trial 48 with value: 2.689646905748057.\n",
      "[I 2025-05-30 05:39:01,891] Trial 58 finished with value: 2.8119185800390882 and parameters: {'n_estimators': 909, 'max_depth': 8, 'learning_rate': 0.037608170525405486, 'subsample': 0.5681578959432851, 'colsample_bytree': 0.5419903870709047, 'gamma': 0.350466484352889, 'reg_alpha': 4.7948096737224395, 'reg_lambda': 0.37869851186749015}. Best is trial 48 with value: 2.689646905748057.\n",
      "[I 2025-05-30 05:39:45,172] Trial 59 finished with value: 2.730001035697098 and parameters: {'n_estimators': 831, 'max_depth': 11, 'learning_rate': 0.025055709243796086, 'subsample': 0.5940097792621392, 'colsample_bytree': 0.5813028627139373, 'gamma': 1.1438836591983121, 'reg_alpha': 4.291191585238177, 'reg_lambda': 0.6302579753310942}. Best is trial 48 with value: 2.689646905748057.\n",
      "[I 2025-05-30 05:40:28,971] Trial 60 finished with value: 2.82910746164599 and parameters: {'n_estimators': 742, 'max_depth': 11, 'learning_rate': 0.016689746611074908, 'subsample': 0.6114154771762075, 'colsample_bytree': 0.5743455376475702, 'gamma': 1.1222346144500785, 'reg_alpha': 3.986852507520862, 'reg_lambda': 1.3634422198284377}. Best is trial 48 with value: 2.689646905748057.\n",
      "[I 2025-05-30 05:41:08,675] Trial 61 finished with value: 2.7727811654619496 and parameters: {'n_estimators': 848, 'max_depth': 10, 'learning_rate': 0.02512575376948893, 'subsample': 0.5176112570919391, 'colsample_bytree': 0.6083224388306273, 'gamma': 0.7570966516405977, 'reg_alpha': 4.517471866074693, 'reg_lambda': 0.598183180895381}. Best is trial 48 with value: 2.689646905748057.\n",
      "[I 2025-05-30 05:41:36,473] Trial 62 finished with value: 2.7125905738158838 and parameters: {'n_estimators': 881, 'max_depth': 10, 'learning_rate': 0.030343699107168078, 'subsample': 0.5887998768668238, 'colsample_bytree': 0.540527982970728, 'gamma': 0.18489176850158262, 'reg_alpha': 4.245443848735862, 'reg_lambda': 0.16436900666577559}. Best is trial 48 with value: 2.689646905748057.\n",
      "[I 2025-05-30 05:42:22,119] Trial 63 finished with value: 2.71001609952304 and parameters: {'n_estimators': 894, 'max_depth': 12, 'learning_rate': 0.02288852998848671, 'subsample': 0.5980837557116766, 'colsample_bytree': 0.5394328717252497, 'gamma': 0.17554337800016243, 'reg_alpha': 4.241841042638085, 'reg_lambda': 0.19446806535018862}. Best is trial 48 with value: 2.689646905748057.\n",
      "[I 2025-05-30 05:43:25,349] Trial 64 finished with value: 2.7128948434092472 and parameters: {'n_estimators': 959, 'max_depth': 12, 'learning_rate': 0.020004563828415818, 'subsample': 0.5882303978363888, 'colsample_bytree': 0.5353668662617832, 'gamma': 0.015307485040300321, 'reg_alpha': 4.286985982437211, 'reg_lambda': 0.1600633813391481}. Best is trial 48 with value: 2.689646905748057.\n",
      "[I 2025-05-30 05:44:41,733] Trial 65 finished with value: 2.7028662056052335 and parameters: {'n_estimators': 969, 'max_depth': 12, 'learning_rate': 0.016655322611726295, 'subsample': 0.6372024881532187, 'colsample_bytree': 0.5336946540409188, 'gamma': 0.12604482300000325, 'reg_alpha': 3.742127000583971, 'reg_lambda': 0.12699593324958158}. Best is trial 48 with value: 2.689646905748057.\n",
      "[I 2025-05-30 05:46:02,856] Trial 66 finished with value: 2.7250645411136345 and parameters: {'n_estimators': 961, 'max_depth': 12, 'learning_rate': 0.01720027681566338, 'subsample': 0.6413463714774773, 'colsample_bytree': 0.5337015484821978, 'gamma': 0.001228235558531958, 'reg_alpha': 4.201709021995562, 'reg_lambda': 0.15059000134188397}. Best is trial 48 with value: 2.689646905748057.\n",
      "[I 2025-05-30 05:47:16,024] Trial 67 finished with value: 2.7374814943010346 and parameters: {'n_estimators': 963, 'max_depth': 13, 'learning_rate': 0.019562876030165093, 'subsample': 0.6712153506332071, 'colsample_bytree': 0.5026726206294932, 'gamma': 0.3272805121858766, 'reg_alpha': 3.705301296510095, 'reg_lambda': 0.18640666586743074}. Best is trial 48 with value: 2.689646905748057.\n",
      "[I 2025-05-30 05:48:27,810] Trial 68 finished with value: 2.729411213719523 and parameters: {'n_estimators': 926, 'max_depth': 12, 'learning_rate': 0.014515432544603791, 'subsample': 0.5852671835017548, 'colsample_bytree': 0.5350622524817541, 'gamma': 0.15337364101929016, 'reg_alpha': 3.820808066870401, 'reg_lambda': 0.022044790849457013}. Best is trial 48 with value: 2.689646905748057.\n",
      "[I 2025-05-30 05:49:36,805] Trial 69 finished with value: 2.7731092661733023 and parameters: {'n_estimators': 929, 'max_depth': 12, 'learning_rate': 0.012813846323282094, 'subsample': 0.5460298047697156, 'colsample_bytree': 0.5492029790369388, 'gamma': 0.37056446225468775, 'reg_alpha': 3.985195808933372, 'reg_lambda': 0.19093970129369017}. Best is trial 48 with value: 2.689646905748057.\n",
      "[I 2025-05-30 05:50:50,186] Trial 70 finished with value: 2.72849945959219 and parameters: {'n_estimators': 959, 'max_depth': 13, 'learning_rate': 0.02185368651305581, 'subsample': 0.6307447092505336, 'colsample_bytree': 0.5190693454617719, 'gamma': 0.005356024182160619, 'reg_alpha': 4.3892104122382225, 'reg_lambda': 0.792123216718202}. Best is trial 48 with value: 2.689646905748057.\n",
      "[I 2025-05-30 05:51:28,036] Trial 71 finished with value: 2.7327919001209104 and parameters: {'n_estimators': 885, 'max_depth': 11, 'learning_rate': 0.023363228875141022, 'subsample': 0.5717880655936998, 'colsample_bytree': 0.5235819563609792, 'gamma': 0.17911303641979398, 'reg_alpha': 4.860294827076747, 'reg_lambda': 0.48122336198920296}. Best is trial 48 with value: 2.689646905748057.\n",
      "[I 2025-05-30 05:52:13,917] Trial 72 finished with value: 2.723949677919795 and parameters: {'n_estimators': 873, 'max_depth': 12, 'learning_rate': 0.02051995567197936, 'subsample': 0.5985462484697456, 'colsample_bytree': 0.5724260734903341, 'gamma': 0.18266865704009982, 'reg_alpha': 4.4569510988214915, 'reg_lambda': 0.2992842995270688}. Best is trial 48 with value: 2.689646905748057.\n",
      "[I 2025-05-30 05:53:01,382] Trial 73 finished with value: 2.7406019533899935 and parameters: {'n_estimators': 918, 'max_depth': 12, 'learning_rate': 0.01604751844819381, 'subsample': 0.5829969308521132, 'colsample_bytree': 0.5935046637759863, 'gamma': 0.40687584885645955, 'reg_alpha': 4.218179483341114, 'reg_lambda': 0.6669698327215479}. Best is trial 48 with value: 2.689646905748057.\n",
      "[I 2025-05-30 05:53:33,145] Trial 74 finished with value: 2.760915938996439 and parameters: {'n_estimators': 977, 'max_depth': 11, 'learning_rate': 0.018730037016173994, 'subsample': 0.5182443391074705, 'colsample_bytree': 0.6375177573743773, 'gamma': 2.886441527964747, 'reg_alpha': 4.086230438108468, 'reg_lambda': 0.545144956790883}. Best is trial 48 with value: 2.689646905748057.\n",
      "[I 2025-05-30 05:53:34,356] Trial 75 finished with value: 8.521585768577962 and parameters: {'n_estimators': 119, 'max_depth': 4, 'learning_rate': 0.011194959080906732, 'subsample': 0.9927479667319674, 'colsample_bytree': 0.6664310325556941, 'gamma': 0.15067443080872195, 'reg_alpha': 1.754755659650955, 'reg_lambda': 0.072959596370399}. Best is trial 48 with value: 2.689646905748057.\n",
      "[I 2025-05-30 05:54:12,488] Trial 76 finished with value: 2.7507155094454623 and parameters: {'n_estimators': 882, 'max_depth': 13, 'learning_rate': 0.026376629978827813, 'subsample': 0.5647373501619357, 'colsample_bytree': 0.5420109751860409, 'gamma': 0.7266581002374705, 'reg_alpha': 4.873412377941604, 'reg_lambda': 0.36122597563963044}. Best is trial 48 with value: 2.689646905748057.\n",
      "[I 2025-05-30 05:54:44,806] Trial 77 finished with value: 2.732899731072107 and parameters: {'n_estimators': 797, 'max_depth': 11, 'learning_rate': 0.027397286212198085, 'subsample': 0.5434648164933702, 'colsample_bytree': 0.5543571746068968, 'gamma': 0.28039895834424655, 'reg_alpha': 4.462443689604286, 'reg_lambda': 0.8349146380267842}. Best is trial 48 with value: 2.689646905748057.\n",
      "[I 2025-05-30 05:55:10,393] Trial 78 finished with value: 2.747236163424647 and parameters: {'n_estimators': 997, 'max_depth': 11, 'learning_rate': 0.036422049870522534, 'subsample': 0.6112852600401135, 'colsample_bytree': 0.5018139330217487, 'gamma': 0.8705009881430814, 'reg_alpha': 3.8390243378944544, 'reg_lambda': 0.002704051141241004}. Best is trial 48 with value: 2.689646905748057.\n",
      "[I 2025-05-30 05:56:01,943] Trial 79 finished with value: 2.7479245416867255 and parameters: {'n_estimators': 934, 'max_depth': 12, 'learning_rate': 0.017528191429012265, 'subsample': 0.6542255485423372, 'colsample_bytree': 0.698122452174225, 'gamma': 0.44604028943173457, 'reg_alpha': 4.548373320387535, 'reg_lambda': 0.2104007957917043}. Best is trial 48 with value: 2.689646905748057.\n",
      "[I 2025-05-30 05:56:30,022] Trial 80 finished with value: 2.752734038947182 and parameters: {'n_estimators': 847, 'max_depth': 10, 'learning_rate': 0.022216465520362796, 'subsample': 0.6280638835502308, 'colsample_bytree': 0.5684451520772102, 'gamma': 0.007063558243620677, 'reg_alpha': 0.951843908734773, 'reg_lambda': 1.092281425609291}. Best is trial 48 with value: 2.689646905748057.\n",
      "[I 2025-05-30 05:57:17,870] Trial 81 finished with value: 2.7225488890574776 and parameters: {'n_estimators': 873, 'max_depth': 12, 'learning_rate': 0.021019950981445972, 'subsample': 0.5917449764288026, 'colsample_bytree': 0.5798753063220087, 'gamma': 0.17175212556481537, 'reg_alpha': 4.437842010008844, 'reg_lambda': 0.31949115851615945}. Best is trial 48 with value: 2.689646905748057.\n",
      "[I 2025-05-30 05:58:19,361] Trial 82 finished with value: 2.754905313848199 and parameters: {'n_estimators': 904, 'max_depth': 13, 'learning_rate': 0.014960577246488976, 'subsample': 0.592258041883654, 'colsample_bytree': 0.589566458156032, 'gamma': 0.16301765365335638, 'reg_alpha': 4.289416907724207, 'reg_lambda': 0.40858188990410865}. Best is trial 48 with value: 2.689646905748057.\n",
      "[I 2025-05-30 05:59:01,832] Trial 83 finished with value: 2.7195716580942526 and parameters: {'n_estimators': 875, 'max_depth': 12, 'learning_rate': 0.02363233449243792, 'subsample': 0.5538501005734627, 'colsample_bytree': 0.5526609691557485, 'gamma': 0.2979325583817355, 'reg_alpha': 4.822412773141323, 'reg_lambda': 0.2990232396526071}. Best is trial 48 with value: 2.689646905748057.\n",
      "[I 2025-05-30 05:59:25,558] Trial 84 finished with value: 2.787358466006405 and parameters: {'n_estimators': 973, 'max_depth': 11, 'learning_rate': 0.024095948910298252, 'subsample': 0.5527759317250938, 'colsample_bytree': 0.5304550427993002, 'gamma': 3.696156068378315, 'reg_alpha': 4.930124987605984, 'reg_lambda': 0.14937113784624384}. Best is trial 48 with value: 2.689646905748057.\n",
      "[I 2025-05-30 05:59:53,017] Trial 85 finished with value: 2.7189216121136344 and parameters: {'n_estimators': 939, 'max_depth': 10, 'learning_rate': 0.043306093038551985, 'subsample': 0.5718536735697798, 'colsample_bytree': 0.5545022674498279, 'gamma': 0.3010855052011365, 'reg_alpha': 4.806359895910949, 'reg_lambda': 0.6174213411651537}. Best is trial 48 with value: 2.689646905748057.\n",
      "[I 2025-05-30 06:00:26,323] Trial 86 finished with value: 2.80450234824749 and parameters: {'n_estimators': 917, 'max_depth': 14, 'learning_rate': 0.04377492658082765, 'subsample': 0.531373056929251, 'colsample_bytree': 0.5480434512652687, 'gamma': 0.5357764972933621, 'reg_alpha': 4.785932825946608, 'reg_lambda': 0.7221459433347961}. Best is trial 48 with value: 2.689646905748057.\n",
      "[I 2025-05-30 06:00:47,762] Trial 87 finished with value: 2.7098045950115575 and parameters: {'n_estimators': 945, 'max_depth': 9, 'learning_rate': 0.0499449919662616, 'subsample': 0.5780215197452712, 'colsample_bytree': 0.5167768717184013, 'gamma': 0.3153117119655306, 'reg_alpha': 4.585822941112325, 'reg_lambda': 0.5696390024180314}. Best is trial 48 with value: 2.689646905748057.\n",
      "[I 2025-05-30 06:01:08,003] Trial 88 finished with value: 2.7054388473669184 and parameters: {'n_estimators': 948, 'max_depth': 9, 'learning_rate': 0.06906919241304206, 'subsample': 0.606407763522316, 'colsample_bytree': 0.512803299039431, 'gamma': 0.36484818740487734, 'reg_alpha': 4.647109022417867, 'reg_lambda': 0.576892886997913}. Best is trial 48 with value: 2.689646905748057.\n",
      "[I 2025-05-30 06:01:29,297] Trial 89 finished with value: 2.7265475472201466 and parameters: {'n_estimators': 953, 'max_depth': 9, 'learning_rate': 0.06479041396191988, 'subsample': 0.6058765482380979, 'colsample_bytree': 0.5133302805686744, 'gamma': 0.3606525347093332, 'reg_alpha': 4.609358602524225, 'reg_lambda': 0.6425750589678523}. Best is trial 48 with value: 2.689646905748057.\n",
      "[I 2025-05-30 06:01:45,816] Trial 90 finished with value: 2.738176330210662 and parameters: {'n_estimators': 936, 'max_depth': 8, 'learning_rate': 0.04931006536951924, 'subsample': 0.62038137994555, 'colsample_bytree': 0.5299593414687072, 'gamma': 0.45193075579079134, 'reg_alpha': 4.1422051438697975, 'reg_lambda': 0.8174645422584007}. Best is trial 48 with value: 2.689646905748057.\n",
      "[I 2025-05-30 06:02:05,960] Trial 91 finished with value: 2.7449639765142346 and parameters: {'n_estimators': 966, 'max_depth': 9, 'learning_rate': 0.07694242326318411, 'subsample': 0.5548332967791847, 'colsample_bytree': 0.5555502912087865, 'gamma': 0.33502747159907864, 'reg_alpha': 4.727929164689007, 'reg_lambda': 0.5092178107429259}. Best is trial 48 with value: 2.689646905748057.\n",
      "[I 2025-05-30 06:02:25,242] Trial 92 finished with value: 2.747396016535218 and parameters: {'n_estimators': 944, 'max_depth': 9, 'learning_rate': 0.055699917882440796, 'subsample': 0.5833702168873212, 'colsample_bytree': 0.5113496638020318, 'gamma': 0.6858306059763737, 'reg_alpha': 4.289258777691684, 'reg_lambda': 0.2561622485060858}. Best is trial 48 with value: 2.689646905748057.\n",
      "[I 2025-05-30 06:02:32,600] Trial 93 finished with value: 2.903052591297539 and parameters: {'n_estimators': 217, 'max_depth': 10, 'learning_rate': 0.08551341004185194, 'subsample': 0.6394936881316984, 'colsample_bytree': 0.5206467123408336, 'gamma': 0.27958876468837657, 'reg_alpha': 4.584072184026723, 'reg_lambda': 0.11528893893830539}. Best is trial 48 with value: 2.689646905748057.\n",
      "[I 2025-05-30 06:02:48,978] Trial 94 finished with value: 2.7393708720819077 and parameters: {'n_estimators': 982, 'max_depth': 8, 'learning_rate': 0.05690465448279588, 'subsample': 0.5773041250721488, 'colsample_bytree': 0.544412451705519, 'gamma': 0.09264953433141915, 'reg_alpha': 3.281359520191518, 'reg_lambda': 4.513245881338784}. Best is trial 48 with value: 2.689646905748057.\n",
      "[I 2025-05-30 06:03:09,218] Trial 95 finished with value: 2.7468232098971064 and parameters: {'n_estimators': 1000, 'max_depth': 9, 'learning_rate': 0.06827706517785695, 'subsample': 0.518062018561058, 'colsample_bytree': 0.5659257676431698, 'gamma': 0.652874899797667, 'reg_alpha': 3.937030586321516, 'reg_lambda': 1.0130500154225937}. Best is trial 48 with value: 2.689646905748057.\n",
      "[I 2025-05-30 06:03:37,245] Trial 96 finished with value: 2.7144463337434384 and parameters: {'n_estimators': 901, 'max_depth': 10, 'learning_rate': 0.04471107630265356, 'subsample': 0.6036647950829372, 'colsample_bytree': 0.5301364937049096, 'gamma': 0.2528446441779611, 'reg_alpha': 4.654367319354841, 'reg_lambda': 0.2654896020724644}. Best is trial 48 with value: 2.689646905748057.\n",
      "[I 2025-05-30 06:04:05,524] Trial 97 finished with value: 2.7202949080755667 and parameters: {'n_estimators': 901, 'max_depth': 10, 'learning_rate': 0.04665486390121886, 'subsample': 0.6049603812753425, 'colsample_bytree': 0.5284166437492236, 'gamma': 0.09610693768567397, 'reg_alpha': 4.395977458016693, 'reg_lambda': 0.5767472640658993}. Best is trial 48 with value: 2.689646905748057.\n",
      "[I 2025-05-30 06:04:25,837] Trial 98 finished with value: 2.7135803356576025 and parameters: {'n_estimators': 925, 'max_depth': 9, 'learning_rate': 0.04275648767437719, 'subsample': 0.622157826886674, 'colsample_bytree': 0.5062857118414053, 'gamma': 0.46698595808230287, 'reg_alpha': 4.667595388092896, 'reg_lambda': 1.2096627012103427}. Best is trial 48 with value: 2.689646905748057.\n",
      "[I 2025-05-30 06:04:43,465] Trial 99 finished with value: 2.710703902939984 and parameters: {'n_estimators': 826, 'max_depth': 9, 'learning_rate': 0.04995129557528876, 'subsample': 0.6791370304566318, 'colsample_bytree': 0.510400124995612, 'gamma': 0.8467409647071904, 'reg_alpha': 4.666374418629736, 'reg_lambda': 1.2631574839654902}. Best is trial 48 with value: 2.689646905748057.\n",
      "2025/05/30 06:04:58 WARNING mlflow.models.model: Model logged without a signature and input example. Please set `input_example` parameter when logging the model to auto infer the model signature.\n"
     ]
    },
    {
     "name": "stdout",
     "output_type": "stream",
     "text": [
      "Model saved to ../outputs/models/xgboost_optuna_optuna.joblib\n",
      "Best Validation RMSE: 2.6896\n"
     ]
    }
   ],
   "source": [
    "from src.data.model_training import optimize_xgboost_with_optuna\n",
    "\n",
    "xgbmodel, val_rmse, best_params = optimize_xgboost_with_optuna(\n",
    "    X_train, y_train, X_val, y_val,\n",
    "    config_path=\"../configs/config.yaml\",\n",
    "    suffix=\"optuna\",\n",
    "    n_trials=100\n",
    ")"
   ]
  },
  {
   "cell_type": "code",
   "execution_count": 5,
   "metadata": {},
   "outputs": [
    {
     "name": "stdout",
     "output_type": "stream",
     "text": [
      "Predictions saved to ../outputs/predictions/predictions_xgb.csv\n"
     ]
    }
   ],
   "source": [
    "import sys\n",
    "sys.path.append('..')\n",
    "from src.utils.io import load_model\n",
    "from src.data.model_training import predict_and_save\n",
    "# get predictions for the test datafrom src.utils.io import load_model\n",
    "model = load_model(\"../outputs/models/xgboost_optuna_optuna.joblib\")\n",
    "X_test = test_df  \n",
    "predict_and_save(model, X_test, config_path=\"../configs/config.yaml\", suffix=\"xgb\")"
   ]
  },
  {
   "cell_type": "markdown",
   "metadata": {},
   "source": [
    "#### 3.2.1 Feature importance of XGB model"
   ]
  },
  {
   "cell_type": "code",
   "execution_count": 4,
   "metadata": {},
   "outputs": [
    {
     "name": "stdout",
     "output_type": "stream",
     "text": [
      "                               feature  importance\n",
      "74         composition_label_1_encoded    0.286913\n",
      "77            track_identifier_encoded    0.215141\n",
      "75         composition_label_2_encoded    0.208035\n",
      "76          creator_collective_encoded    0.046694\n",
      "73         composition_label_0_encoded    0.046539\n",
      "64                 is_new_year_release    0.009245\n",
      "53                        release_year    0.007129\n",
      "69            songs_released_that_year    0.006730\n",
      "72  release_dayofweek_popularity_score    0.005196\n",
      "82         weekday_of_release_Thursday    0.005132\n",
      "63                  is_valentines_week    0.004976\n",
      "85            season_of_release_autumn    0.004070\n",
      "20                    time_signature_1    0.003899\n",
      "70           songs_released_that_month    0.003679\n",
      "56                   release_dayofweek    0.003550\n",
      "84        weekday_of_release_Wednesday    0.003127\n",
      "13               album_component_count    0.002856\n",
      "29                 organic_immersion_0    0.002834\n",
      "81           weekday_of_release_Sunday    0.002586\n",
      "79           weekday_of_release_Monday    0.002566\n"
     ]
    }
   ],
   "source": [
    "import sys\n",
    "sys.path.append('..')\n",
    "from src.utils.io import load_model\n",
    "\n",
    "model = load_model(\"../outputs/models/xgboost_optuna_optuna.joblib\")\n",
    "\n",
    "# Get feature importances\n",
    "importances = model.feature_importances_\n",
    "feature_names = X_train.columns\n",
    "\n",
    "# Create and sort DataFrame\n",
    "importance_df = pd.DataFrame({\n",
    "    \"feature\": feature_names,\n",
    "    \"importance\": importances\n",
    "}).sort_values(by=\"importance\", ascending=False)\n",
    "\n",
    "# Display top 20 features\n",
    "print(importance_df.head(20))\n",
    "\n"
   ]
  },
  {
   "cell_type": "code",
   "execution_count": null,
   "metadata": {},
   "outputs": [],
   "source": []
  }
 ],
 "metadata": {
  "kernelspec": {
   "display_name": "env",
   "language": "python",
   "name": "python3"
  },
  "language_info": {
   "codemirror_mode": {
    "name": "ipython",
    "version": 3
   },
   "file_extension": ".py",
   "mimetype": "text/x-python",
   "name": "python",
   "nbconvert_exporter": "python",
   "pygments_lexer": "ipython3",
   "version": "3.12.8"
  }
 },
 "nbformat": 4,
 "nbformat_minor": 2
}
