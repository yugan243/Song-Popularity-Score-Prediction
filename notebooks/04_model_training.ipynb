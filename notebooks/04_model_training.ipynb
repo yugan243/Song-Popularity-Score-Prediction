{
 "cells": [
  {
   "cell_type": "markdown",
   "metadata": {},
   "source": [
    "# Model Training"
   ]
  },
  {
   "cell_type": "markdown",
   "metadata": {},
   "source": [
    "## 1. Preparing Environment"
   ]
  },
  {
   "cell_type": "code",
   "execution_count": 1,
   "metadata": {},
   "outputs": [],
   "source": [
    "import pandas as pd\n",
    "import numpy as np\n",
    "import seaborn as sns\n",
    "import matplotlib.pyplot as plt\n",
    "%matplotlib inline\n",
    "import yaml\n",
    "from sklearn.model_selection import train_test_split\n",
    "\n",
    "import warnings \n",
    "warnings.filterwarnings('ignore')"
   ]
  },
  {
   "cell_type": "markdown",
   "metadata": {},
   "source": [
    "## 2. Spliting data set"
   ]
  },
  {
   "cell_type": "code",
   "execution_count": 2,
   "metadata": {},
   "outputs": [
    {
     "name": "stdout",
     "output_type": "stream",
     "text": [
      "Loading training data from ../data/processed/train_encoded.csv\n",
      "Loading test data from ../data/processed/test_encoded.csv\n",
      "Train shape: (61609, 74)\n",
      "Test shape: (41074, 73)\n"
     ]
    }
   ],
   "source": [
    "import sys\n",
    "sys.path.append('..')\n",
    "\n",
    "from src.utils.utils import load_config\n",
    "from src.data.load_data import load_data\n",
    "\n",
    "config = load_config('../configs/config.yaml')\n",
    "\n",
    "# Load data\n",
    "train_df, test_df = load_data(train_path=\"../data/processed/train_encoded.csv\",\n",
    "                              test_path=\"../data/processed/test_encoded.csv\"\n",
    "                              )\n",
    "\n",
    "# Split features and target\n",
    "X = train_df.drop(columns=[config[\"model\"][\"target_column\"]])\n",
    "y = train_df[config[\"model\"][\"target_column\"]]\n",
    "\n",
    "# Split into train/validation\n",
    "X_train, X_val, y_train, y_val = train_test_split(\n",
    "    X, y, \n",
    "    test_size=config[\"test_size\"], \n",
    "    random_state=config[\"random_seed\"]\n",
    ")"
   ]
  },
  {
   "cell_type": "markdown",
   "metadata": {},
   "source": [
    "## 3. Model Tranining and Baseline"
   ]
  },
  {
   "cell_type": "markdown",
   "metadata": {},
   "source": [
    "### 3.1 Baseline model - Random Forest Regressor"
   ]
  },
  {
   "cell_type": "code",
   "execution_count": 3,
   "metadata": {},
   "outputs": [
    {
     "name": "stderr",
     "output_type": "stream",
     "text": [
      "2025/05/29 03:48:04 WARNING mlflow.models.model: Model logged without a signature and input example. Please set `input_example` parameter when logging the model to auto infer the model signature.\n"
     ]
    },
    {
     "name": "stdout",
     "output_type": "stream",
     "text": [
      "Model saved to ../outputs/models/random_forest2.joblib\n",
      "Validation RMSE: 4.3149\n"
     ]
    }
   ],
   "source": [
    "from src.data.model_training import train_and_evaluate\n",
    "from src.data.model_training import predict_and_save\n",
    "\n",
    "model, val_rmse = train_and_evaluate(\n",
    "    X_train, y_train, X_val, y_val, \n",
    "    config_path=\"../configs/config.yaml\", \n",
    "    params_path=\"../configs/model_params.yaml\",\n",
    "    suffix=2\n",
    ")\n"
   ]
  },
  {
   "cell_type": "code",
   "execution_count": 4,
   "metadata": {},
   "outputs": [
    {
     "name": "stdout",
     "output_type": "stream",
     "text": [
      "Predictions saved to ../outputs/predictions/random_forest_predictions_2.csv\n"
     ]
    }
   ],
   "source": [
    "from src.utils.io import load_model\n",
    "from src.data.model_training import predict_and_save\n",
    "# get predictions for the test datafrom src.utils.io import load_model\n",
    "model = load_model(\"../outputs/models/random_forest.joblib\")\n",
    "X_test = test_df  \n",
    "predict_and_save(model, X_test, config_path=\"../configs/config.yaml\", suffix=\"_2\")"
   ]
  },
  {
   "cell_type": "code",
   "execution_count": null,
   "metadata": {},
   "outputs": [],
   "source": []
  }
 ],
 "metadata": {
  "kernelspec": {
   "display_name": "env",
   "language": "python",
   "name": "python3"
  },
  "language_info": {
   "codemirror_mode": {
    "name": "ipython",
    "version": 3
   },
   "file_extension": ".py",
   "mimetype": "text/x-python",
   "name": "python",
   "nbconvert_exporter": "python",
   "pygments_lexer": "ipython3",
   "version": "3.12.8"
  }
 },
 "nbformat": 4,
 "nbformat_minor": 2
}
